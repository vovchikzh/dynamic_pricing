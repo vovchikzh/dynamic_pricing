{
 "cells": [
  {
   "cell_type": "code",
   "execution_count": 13,
   "metadata": {
    "code_folding": []
   },
   "outputs": [],
   "source": [
    "from ml_tools import *\n",
    "\n",
    "# Constants\n",
    "DATA_PATH = './data/'\n",
    "OLD_DATA_PATH = './old_data/'\n",
    "MODELS_PATH = './models/'\n",
    "RAW_FILENAME = DATA_PATH + 'Путилково/Путилково_2. Дома с метражом.xlsx'\n",
    "HOUSES_TO_DROP = [17, 18, 20]\n",
    "TARGET_COL = 'Ценазапомещение,тг.'\n",
    "\n",
    "list_NEED_FILTER_IQR = [True, False]#[True, False]\n",
    "list_SPLIT = [0.2, 0.3]#[0.1, 0.2, 0.3]\n",
    "list_CV_NUM = [3, 5]#, 4, 5] \n",
    "list_NEED_DROP_PRICE_PER_SQM = [True]#, False]\n",
    "PRICE_PER_SQM_COL = 'Ценазакв,м,'"
   ]
  },
  {
   "cell_type": "code",
   "execution_count": 14,
   "metadata": {
    "code_folding": []
   },
   "outputs": [],
   "source": [
    "df = read_data(RAW_FILENAME)\n",
    "df = prepare_data(df, HOUSES_TO_DROP)"
   ]
  },
  {
   "cell_type": "code",
   "execution_count": 15,
   "metadata": {
    "code_folding": [],
    "scrolled": true
   },
   "outputs": [
    {
     "data": {
      "application/vnd.jupyter.widget-view+json": {
       "model_id": "fd9a9e0c44c347dc81c961fce3f0217d",
       "version_major": 2,
       "version_minor": 0
      },
      "text/plain": [
       "HBox(children=(FloatProgress(value=0.0, max=2.0), HTML(value='')))"
      ]
     },
     "metadata": {},
     "output_type": "display_data"
    },
    {
     "name": "stderr",
     "output_type": "stream",
     "text": [
      "INFO:root:Начинаем тренировку модели...\n"
     ]
    },
    {
     "data": {
      "application/vnd.jupyter.widget-view+json": {
       "model_id": "08399849d61747a595a586563e40032f",
       "version_major": 2,
       "version_minor": 0
      },
      "text/plain": [
       "HBox(children=(FloatProgress(value=0.0, max=7.0), HTML(value='')))"
      ]
     },
     "metadata": {},
     "output_type": "display_data"
    },
    {
     "name": "stdout",
     "output_type": "stream",
     "text": [
      "RandomForestRegressor\n",
      "AdaBoostRegressor\n",
      "ExtraTreesRegressor\n",
      "GradientBoostingRegressor\n",
      "Lasso\n",
      "LinearRegression\n",
      "Ridge\n",
      "\n"
     ]
    },
    {
     "data": {
      "application/vnd.jupyter.widget-view+json": {
       "model_id": "9413bf2de700450f8b59dcb3f7f159b6",
       "version_major": 2,
       "version_minor": 0
      },
      "text/plain": [
       "HBox(children=(FloatProgress(value=0.0, max=5.0), HTML(value='')))"
      ]
     },
     "metadata": {},
     "output_type": "display_data"
    },
    {
     "name": "stdout",
     "output_type": "stream",
     "text": [
      "GradientBoostingRegressor\n",
      "RandomForestRegressor\n",
      "ExtraTreesRegressor\n"
     ]
    },
    {
     "name": "stderr",
     "output_type": "stream",
     "text": [
      "/home/rprilepskiy/anaconda3/lib/python3.7/site-packages/sklearn/linear_model/coordinate_descent.py:475: ConvergenceWarning: Objective did not converge. You might want to increase the number of iterations. Duality gap: 27990884923502.363, tolerance: 117979437668.36638\n",
      "  positive)\n",
      "INFO:root:Готово!\n",
      "INFO:root:Начинаем тренировку модели...\n"
     ]
    },
    {
     "name": "stdout",
     "output_type": "stream",
     "text": [
      "Ridge\n",
      "Lasso\n",
      "\n"
     ]
    },
    {
     "data": {
      "application/vnd.jupyter.widget-view+json": {
       "model_id": "1e20cb21404d484c8440a93a51a82296",
       "version_major": 2,
       "version_minor": 0
      },
      "text/plain": [
       "HBox(children=(FloatProgress(value=0.0, max=7.0), HTML(value='')))"
      ]
     },
     "metadata": {},
     "output_type": "display_data"
    },
    {
     "name": "stdout",
     "output_type": "stream",
     "text": [
      "RandomForestRegressor\n",
      "AdaBoostRegressor\n",
      "ExtraTreesRegressor\n",
      "GradientBoostingRegressor\n",
      "Lasso\n",
      "LinearRegression\n",
      "Ridge\n",
      "\n"
     ]
    },
    {
     "data": {
      "application/vnd.jupyter.widget-view+json": {
       "model_id": "df6c3d24b013477fb12581d3cca2856c",
       "version_major": 2,
       "version_minor": 0
      },
      "text/plain": [
       "HBox(children=(FloatProgress(value=0.0, max=5.0), HTML(value='')))"
      ]
     },
     "metadata": {},
     "output_type": "display_data"
    },
    {
     "name": "stdout",
     "output_type": "stream",
     "text": [
      "GradientBoostingRegressor\n",
      "RandomForestRegressor\n",
      "ExtraTreesRegressor\n"
     ]
    },
    {
     "name": "stderr",
     "output_type": "stream",
     "text": [
      "/home/rprilepskiy/anaconda3/lib/python3.7/site-packages/sklearn/linear_model/coordinate_descent.py:475: ConvergenceWarning: Objective did not converge. You might want to increase the number of iterations. Duality gap: 27990884923502.363, tolerance: 117979437668.36638\n",
      "  positive)\n",
      "INFO:root:Готово!\n",
      "INFO:root:Начинаем тренировку модели...\n"
     ]
    },
    {
     "name": "stdout",
     "output_type": "stream",
     "text": [
      "Ridge\n",
      "Lasso\n",
      "\n"
     ]
    },
    {
     "data": {
      "application/vnd.jupyter.widget-view+json": {
       "model_id": "3e37989047e04122b04c6543c5b6f2f1",
       "version_major": 2,
       "version_minor": 0
      },
      "text/plain": [
       "HBox(children=(FloatProgress(value=0.0, max=7.0), HTML(value='')))"
      ]
     },
     "metadata": {},
     "output_type": "display_data"
    },
    {
     "name": "stdout",
     "output_type": "stream",
     "text": [
      "RandomForestRegressor\n",
      "AdaBoostRegressor\n",
      "ExtraTreesRegressor\n",
      "GradientBoostingRegressor\n",
      "Lasso\n",
      "LinearRegression\n",
      "Ridge\n",
      "\n"
     ]
    },
    {
     "data": {
      "application/vnd.jupyter.widget-view+json": {
       "model_id": "d8076d1615d0404984e72179c0e02371",
       "version_major": 2,
       "version_minor": 0
      },
      "text/plain": [
       "HBox(children=(FloatProgress(value=0.0, max=5.0), HTML(value='')))"
      ]
     },
     "metadata": {},
     "output_type": "display_data"
    },
    {
     "name": "stdout",
     "output_type": "stream",
     "text": [
      "GradientBoostingRegressor\n",
      "RandomForestRegressor\n",
      "ExtraTreesRegressor\n"
     ]
    },
    {
     "name": "stderr",
     "output_type": "stream",
     "text": [
      "/home/rprilepskiy/anaconda3/lib/python3.7/site-packages/sklearn/linear_model/coordinate_descent.py:475: ConvergenceWarning: Objective did not converge. You might want to increase the number of iterations. Duality gap: 25100342914965.477, tolerance: 101781129053.15213\n",
      "  positive)\n",
      "INFO:root:Готово!\n",
      "INFO:root:Начинаем тренировку модели...\n"
     ]
    },
    {
     "name": "stdout",
     "output_type": "stream",
     "text": [
      "Lasso\n",
      "Ridge\n",
      "\n"
     ]
    },
    {
     "data": {
      "application/vnd.jupyter.widget-view+json": {
       "model_id": "eb7c75db34774ac2891941e83ec4f348",
       "version_major": 2,
       "version_minor": 0
      },
      "text/plain": [
       "HBox(children=(FloatProgress(value=0.0, max=7.0), HTML(value='')))"
      ]
     },
     "metadata": {},
     "output_type": "display_data"
    },
    {
     "name": "stdout",
     "output_type": "stream",
     "text": [
      "RandomForestRegressor\n",
      "AdaBoostRegressor\n",
      "ExtraTreesRegressor\n",
      "GradientBoostingRegressor\n",
      "Lasso\n",
      "LinearRegression\n",
      "Ridge\n",
      "\n"
     ]
    },
    {
     "data": {
      "application/vnd.jupyter.widget-view+json": {
       "model_id": "1b791eb8490b478c83f95c78ffb8abf9",
       "version_major": 2,
       "version_minor": 0
      },
      "text/plain": [
       "HBox(children=(FloatProgress(value=0.0, max=5.0), HTML(value='')))"
      ]
     },
     "metadata": {},
     "output_type": "display_data"
    },
    {
     "name": "stdout",
     "output_type": "stream",
     "text": [
      "GradientBoostingRegressor\n",
      "RandomForestRegressor\n",
      "ExtraTreesRegressor\n"
     ]
    },
    {
     "name": "stderr",
     "output_type": "stream",
     "text": [
      "INFO:root:Готово!\n",
      "INFO:root:Начинаем тренировку модели...\n"
     ]
    },
    {
     "name": "stdout",
     "output_type": "stream",
     "text": [
      "Ridge\n",
      "LinearRegression\n",
      "\n"
     ]
    },
    {
     "data": {
      "application/vnd.jupyter.widget-view+json": {
       "model_id": "067ad95d5bce4ff48212c6c5570bff50",
       "version_major": 2,
       "version_minor": 0
      },
      "text/plain": [
       "HBox(children=(FloatProgress(value=0.0, max=7.0), HTML(value='')))"
      ]
     },
     "metadata": {},
     "output_type": "display_data"
    },
    {
     "name": "stdout",
     "output_type": "stream",
     "text": [
      "RandomForestRegressor\n",
      "AdaBoostRegressor\n",
      "ExtraTreesRegressor\n",
      "GradientBoostingRegressor\n",
      "Lasso\n",
      "LinearRegression\n",
      "Ridge\n",
      "\n"
     ]
    },
    {
     "data": {
      "application/vnd.jupyter.widget-view+json": {
       "model_id": "b9cdd5a73fee42e8a38ee43d168f1932",
       "version_major": 2,
       "version_minor": 0
      },
      "text/plain": [
       "HBox(children=(FloatProgress(value=0.0, max=5.0), HTML(value='')))"
      ]
     },
     "metadata": {},
     "output_type": "display_data"
    },
    {
     "name": "stdout",
     "output_type": "stream",
     "text": [
      "GradientBoostingRegressor\n",
      "RandomForestRegressor\n",
      "ExtraTreesRegressor\n"
     ]
    },
    {
     "name": "stderr",
     "output_type": "stream",
     "text": [
      "INFO:root:Готово!\n",
      "INFO:root:Начинаем тренировку модели...\n"
     ]
    },
    {
     "name": "stdout",
     "output_type": "stream",
     "text": [
      "Ridge\n",
      "LinearRegression\n",
      "\n"
     ]
    },
    {
     "data": {
      "application/vnd.jupyter.widget-view+json": {
       "model_id": "4c5dff6c8cb74aebabda8f9d0ebe3882",
       "version_major": 2,
       "version_minor": 0
      },
      "text/plain": [
       "HBox(children=(FloatProgress(value=0.0, max=7.0), HTML(value='')))"
      ]
     },
     "metadata": {},
     "output_type": "display_data"
    },
    {
     "name": "stdout",
     "output_type": "stream",
     "text": [
      "RandomForestRegressor\n",
      "AdaBoostRegressor\n",
      "ExtraTreesRegressor\n",
      "GradientBoostingRegressor\n",
      "Lasso\n",
      "LinearRegression\n",
      "Ridge\n",
      "\n"
     ]
    },
    {
     "data": {
      "application/vnd.jupyter.widget-view+json": {
       "model_id": "42b0bd4aedfd4958ac00b5527171f979",
       "version_major": 2,
       "version_minor": 0
      },
      "text/plain": [
       "HBox(children=(FloatProgress(value=0.0, max=5.0), HTML(value='')))"
      ]
     },
     "metadata": {},
     "output_type": "display_data"
    },
    {
     "name": "stdout",
     "output_type": "stream",
     "text": [
      "GradientBoostingRegressor\n",
      "RandomForestRegressor\n",
      "ExtraTreesRegressor\n"
     ]
    },
    {
     "name": "stderr",
     "output_type": "stream",
     "text": [
      "INFO:root:Готово!\n",
      "INFO:root:Начинаем тренировку модели...\n"
     ]
    },
    {
     "name": "stdout",
     "output_type": "stream",
     "text": [
      "Ridge\n",
      "LinearRegression\n",
      "\n"
     ]
    },
    {
     "data": {
      "application/vnd.jupyter.widget-view+json": {
       "model_id": "4e684ca6da0841d6a913dd9ba1676039",
       "version_major": 2,
       "version_minor": 0
      },
      "text/plain": [
       "HBox(children=(FloatProgress(value=0.0, max=7.0), HTML(value='')))"
      ]
     },
     "metadata": {},
     "output_type": "display_data"
    },
    {
     "name": "stdout",
     "output_type": "stream",
     "text": [
      "RandomForestRegressor\n",
      "AdaBoostRegressor\n",
      "ExtraTreesRegressor\n",
      "GradientBoostingRegressor\n",
      "Lasso\n",
      "LinearRegression\n",
      "Ridge\n",
      "\n"
     ]
    },
    {
     "data": {
      "application/vnd.jupyter.widget-view+json": {
       "model_id": "2a71cc3ffd0e4f1ca0391cc42c67a7e4",
       "version_major": 2,
       "version_minor": 0
      },
      "text/plain": [
       "HBox(children=(FloatProgress(value=0.0, max=5.0), HTML(value='')))"
      ]
     },
     "metadata": {},
     "output_type": "display_data"
    },
    {
     "name": "stdout",
     "output_type": "stream",
     "text": [
      "GradientBoostingRegressor\n",
      "RandomForestRegressor\n",
      "ExtraTreesRegressor\n"
     ]
    },
    {
     "name": "stderr",
     "output_type": "stream",
     "text": [
      "INFO:root:Готово!\n",
      "INFO:root:Начинаем тренировку модели...\n"
     ]
    },
    {
     "name": "stdout",
     "output_type": "stream",
     "text": [
      "Ridge\n",
      "LinearRegression\n",
      "\n"
     ]
    },
    {
     "data": {
      "application/vnd.jupyter.widget-view+json": {
       "model_id": "3ebdb52e12fb41d7ab865e4a134bb2d4",
       "version_major": 2,
       "version_minor": 0
      },
      "text/plain": [
       "HBox(children=(FloatProgress(value=0.0, max=7.0), HTML(value='')))"
      ]
     },
     "metadata": {},
     "output_type": "display_data"
    },
    {
     "name": "stdout",
     "output_type": "stream",
     "text": [
      "RandomForestRegressor\n",
      "AdaBoostRegressor\n",
      "ExtraTreesRegressor\n",
      "GradientBoostingRegressor\n",
      "Lasso\n",
      "LinearRegression\n",
      "Ridge\n",
      "\n"
     ]
    },
    {
     "data": {
      "application/vnd.jupyter.widget-view+json": {
       "model_id": "44934a03c67c4b60baa66cdf4f999282",
       "version_major": 2,
       "version_minor": 0
      },
      "text/plain": [
       "HBox(children=(FloatProgress(value=0.0, max=5.0), HTML(value='')))"
      ]
     },
     "metadata": {},
     "output_type": "display_data"
    },
    {
     "name": "stdout",
     "output_type": "stream",
     "text": [
      "GradientBoostingRegressor\n",
      "RandomForestRegressor\n",
      "ExtraTreesRegressor\n"
     ]
    },
    {
     "name": "stderr",
     "output_type": "stream",
     "text": [
      "INFO:root:Готово!\n"
     ]
    },
    {
     "name": "stdout",
     "output_type": "stream",
     "text": [
      "Ridge\n",
      "LinearRegression\n",
      "\n",
      "\n"
     ]
    },
    {
     "data": {
      "application/vnd.jupyter.widget-view+json": {
       "model_id": "1e9cee6c3bf2475684777658b92c039f",
       "version_major": 2,
       "version_minor": 0
      },
      "text/plain": [
       "HBox(children=(FloatProgress(value=0.0, max=7.0), HTML(value='')))"
      ]
     },
     "metadata": {},
     "output_type": "display_data"
    },
    {
     "name": "stdout",
     "output_type": "stream",
     "text": [
      "RandomForestRegressor\n",
      "AdaBoostRegressor\n",
      "ExtraTreesRegressor\n",
      "GradientBoostingRegressor\n",
      "Lasso\n",
      "LinearRegression\n",
      "Ridge\n",
      "\n"
     ]
    },
    {
     "data": {
      "application/vnd.jupyter.widget-view+json": {
       "model_id": "0e8f3db5fb124a548f3880b5e877ee1b",
       "version_major": 2,
       "version_minor": 0
      },
      "text/plain": [
       "HBox(children=(FloatProgress(value=0.0, max=5.0), HTML(value='')))"
      ]
     },
     "metadata": {},
     "output_type": "display_data"
    },
    {
     "name": "stdout",
     "output_type": "stream",
     "text": [
      "GradientBoostingRegressor\n",
      "RandomForestRegressor\n",
      "ExtraTreesRegressor\n",
      "Ridge\n",
      "LinearRegression\n",
      "\n"
     ]
    }
   ],
   "source": [
    "search = search_models(df, TARGET_COL, list_NEED_FILTER_IQR, list_SPLIT, \n",
    "                       list_CV_NUM, list_NEED_DROP_PRICE_PER_SQM, PRICE_PER_SQM_COL)\n",
    "\n",
    "search, model_name, NEED_FILTER_IQR, SPLIT, CV_NUM, NEED_DROP_PRICE_PER_SQM = get_best_params(search)\n",
    "\n",
    "results, final_model_results, final_models = train_model(df, TARGET_COL, SPLIT, \n",
    "                                                         NEED_FILTER_IQR, \n",
    "                                                         NEED_DROP_PRICE_PER_SQM, \n",
    "                                                         PRICE_PER_SQM_COL, \n",
    "                                                         CV_NUM)\n",
    "\n",
    "best_model = final_models[model_name]"
   ]
  },
  {
   "cell_type": "code",
   "execution_count": 16,
   "metadata": {},
   "outputs": [
    {
     "data": {
      "text/html": [
       "<div>\n",
       "<style scoped>\n",
       "    .dataframe tbody tr th:only-of-type {\n",
       "        vertical-align: middle;\n",
       "    }\n",
       "\n",
       "    .dataframe tbody tr th {\n",
       "        vertical-align: top;\n",
       "    }\n",
       "\n",
       "    .dataframe thead th {\n",
       "        text-align: right;\n",
       "    }\n",
       "</style>\n",
       "<table border=\"1\" class=\"dataframe\">\n",
       "  <thead>\n",
       "    <tr style=\"text-align: right;\">\n",
       "      <th></th>\n",
       "      <th>model</th>\n",
       "      <th>mape_train (%)</th>\n",
       "      <th>mape_valid (%)</th>\n",
       "      <th>rmse_train</th>\n",
       "      <th>rmse_valid</th>\n",
       "      <th>NEED_FILTER_IQR</th>\n",
       "      <th>SPLIT</th>\n",
       "      <th>CV_NUM</th>\n",
       "      <th>NEED_DROP_PRICE_PER_SQM</th>\n",
       "      <th>train_valid_diff_mape</th>\n",
       "      <th>train_valid_diff_rmse</th>\n",
       "      <th>hmean_rmse</th>\n",
       "      <th>hmean_mape</th>\n",
       "      <th>custom_rating</th>\n",
       "    </tr>\n",
       "  </thead>\n",
       "  <tbody>\n",
       "    <tr>\n",
       "      <td>25</td>\n",
       "      <td>GradientBoostingRegressor</td>\n",
       "      <td>3.146000</td>\n",
       "      <td>2.81</td>\n",
       "      <td>202310.212979</td>\n",
       "      <td>178699.391276</td>\n",
       "      <td>False</td>\n",
       "      <td>0.2</td>\n",
       "      <td>5</td>\n",
       "      <td>True</td>\n",
       "      <td>0.106802</td>\n",
       "      <td>0.116706</td>\n",
       "      <td>189773.231460</td>\n",
       "      <td>2.968522</td>\n",
       "      <td>0.520006</td>\n",
       "    </tr>\n",
       "    <tr>\n",
       "      <td>20</td>\n",
       "      <td>GradientBoostingRegressor</td>\n",
       "      <td>3.153333</td>\n",
       "      <td>2.81</td>\n",
       "      <td>205966.325475</td>\n",
       "      <td>178699.391276</td>\n",
       "      <td>False</td>\n",
       "      <td>0.2</td>\n",
       "      <td>3</td>\n",
       "      <td>True</td>\n",
       "      <td>0.108879</td>\n",
       "      <td>0.132385</td>\n",
       "      <td>191366.453432</td>\n",
       "      <td>2.971783</td>\n",
       "      <td>0.515445</td>\n",
       "    </tr>\n",
       "    <tr>\n",
       "      <td>35</td>\n",
       "      <td>GradientBoostingRegressor</td>\n",
       "      <td>3.196000</td>\n",
       "      <td>2.79</td>\n",
       "      <td>207782.101164</td>\n",
       "      <td>176562.660144</td>\n",
       "      <td>False</td>\n",
       "      <td>0.3</td>\n",
       "      <td>5</td>\n",
       "      <td>True</td>\n",
       "      <td>0.127034</td>\n",
       "      <td>0.150251</td>\n",
       "      <td>190904.438958</td>\n",
       "      <td>2.979232</td>\n",
       "      <td>0.515403</td>\n",
       "    </tr>\n",
       "    <tr>\n",
       "      <td>26</td>\n",
       "      <td>RandomForestRegressor</td>\n",
       "      <td>2.894000</td>\n",
       "      <td>2.71</td>\n",
       "      <td>212541.947129</td>\n",
       "      <td>197181.056762</td>\n",
       "      <td>False</td>\n",
       "      <td>0.2</td>\n",
       "      <td>5</td>\n",
       "      <td>True</td>\n",
       "      <td>0.063580</td>\n",
       "      <td>0.072272</td>\n",
       "      <td>204573.555027</td>\n",
       "      <td>2.798979</td>\n",
       "      <td>0.512124</td>\n",
       "    </tr>\n",
       "    <tr>\n",
       "      <td>15</td>\n",
       "      <td>GradientBoostingRegressor</td>\n",
       "      <td>3.208000</td>\n",
       "      <td>2.81</td>\n",
       "      <td>202176.515605</td>\n",
       "      <td>184602.496676</td>\n",
       "      <td>True</td>\n",
       "      <td>0.3</td>\n",
       "      <td>5</td>\n",
       "      <td>True</td>\n",
       "      <td>0.124065</td>\n",
       "      <td>0.086924</td>\n",
       "      <td>192990.252133</td>\n",
       "      <td>2.995839</td>\n",
       "      <td>0.507378</td>\n",
       "    </tr>\n",
       "    <tr>\n",
       "      <td>31</td>\n",
       "      <td>RandomForestRegressor</td>\n",
       "      <td>3.160000</td>\n",
       "      <td>2.61</td>\n",
       "      <td>223628.728770</td>\n",
       "      <td>185105.119054</td>\n",
       "      <td>False</td>\n",
       "      <td>0.3</td>\n",
       "      <td>3</td>\n",
       "      <td>True</td>\n",
       "      <td>0.174051</td>\n",
       "      <td>0.172266</td>\n",
       "      <td>202551.477854</td>\n",
       "      <td>2.858787</td>\n",
       "      <td>0.506625</td>\n",
       "    </tr>\n",
       "    <tr>\n",
       "      <td>5</td>\n",
       "      <td>GradientBoostingRegressor</td>\n",
       "      <td>3.142000</td>\n",
       "      <td>2.99</td>\n",
       "      <td>203985.442969</td>\n",
       "      <td>177317.093378</td>\n",
       "      <td>True</td>\n",
       "      <td>0.2</td>\n",
       "      <td>5</td>\n",
       "      <td>True</td>\n",
       "      <td>0.048377</td>\n",
       "      <td>0.130737</td>\n",
       "      <td>189718.674233</td>\n",
       "      <td>3.064116</td>\n",
       "      <td>0.504692</td>\n",
       "    </tr>\n",
       "    <tr>\n",
       "      <td>0</td>\n",
       "      <td>GradientBoostingRegressor</td>\n",
       "      <td>3.120000</td>\n",
       "      <td>2.99</td>\n",
       "      <td>205530.536656</td>\n",
       "      <td>177317.093378</td>\n",
       "      <td>True</td>\n",
       "      <td>0.2</td>\n",
       "      <td>3</td>\n",
       "      <td>True</td>\n",
       "      <td>0.041667</td>\n",
       "      <td>0.137271</td>\n",
       "      <td>190384.239061</td>\n",
       "      <td>3.053617</td>\n",
       "      <td>0.504657</td>\n",
       "    </tr>\n",
       "    <tr>\n",
       "      <td>36</td>\n",
       "      <td>RandomForestRegressor</td>\n",
       "      <td>3.136000</td>\n",
       "      <td>2.61</td>\n",
       "      <td>228971.270067</td>\n",
       "      <td>185105.119054</td>\n",
       "      <td>False</td>\n",
       "      <td>0.3</td>\n",
       "      <td>5</td>\n",
       "      <td>True</td>\n",
       "      <td>0.167730</td>\n",
       "      <td>0.191579</td>\n",
       "      <td>204714.662894</td>\n",
       "      <td>2.848924</td>\n",
       "      <td>0.503076</td>\n",
       "    </tr>\n",
       "    <tr>\n",
       "      <td>30</td>\n",
       "      <td>GradientBoostingRegressor</td>\n",
       "      <td>3.313333</td>\n",
       "      <td>2.79</td>\n",
       "      <td>215534.574352</td>\n",
       "      <td>176562.660144</td>\n",
       "      <td>False</td>\n",
       "      <td>0.3</td>\n",
       "      <td>3</td>\n",
       "      <td>True</td>\n",
       "      <td>0.157948</td>\n",
       "      <td>0.180815</td>\n",
       "      <td>194111.839883</td>\n",
       "      <td>3.029230</td>\n",
       "      <td>0.498992</td>\n",
       "    </tr>\n",
       "    <tr>\n",
       "      <td>10</td>\n",
       "      <td>GradientBoostingRegressor</td>\n",
       "      <td>3.250000</td>\n",
       "      <td>2.81</td>\n",
       "      <td>210110.971029</td>\n",
       "      <td>184602.496676</td>\n",
       "      <td>True</td>\n",
       "      <td>0.3</td>\n",
       "      <td>3</td>\n",
       "      <td>True</td>\n",
       "      <td>0.135385</td>\n",
       "      <td>0.121405</td>\n",
       "      <td>196532.487510</td>\n",
       "      <td>3.014026</td>\n",
       "      <td>0.495290</td>\n",
       "    </tr>\n",
       "    <tr>\n",
       "      <td>21</td>\n",
       "      <td>RandomForestRegressor</td>\n",
       "      <td>3.050000</td>\n",
       "      <td>2.71</td>\n",
       "      <td>220115.135673</td>\n",
       "      <td>197181.056762</td>\n",
       "      <td>False</td>\n",
       "      <td>0.2</td>\n",
       "      <td>3</td>\n",
       "      <td>True</td>\n",
       "      <td>0.111475</td>\n",
       "      <td>0.104191</td>\n",
       "      <td>208017.882013</td>\n",
       "      <td>2.869965</td>\n",
       "      <td>0.491328</td>\n",
       "    </tr>\n",
       "    <tr>\n",
       "      <td>1</td>\n",
       "      <td>RandomForestRegressor</td>\n",
       "      <td>3.003333</td>\n",
       "      <td>2.88</td>\n",
       "      <td>220071.821825</td>\n",
       "      <td>191720.248271</td>\n",
       "      <td>True</td>\n",
       "      <td>0.2</td>\n",
       "      <td>3</td>\n",
       "      <td>True</td>\n",
       "      <td>0.041065</td>\n",
       "      <td>0.128829</td>\n",
       "      <td>204920.042817</td>\n",
       "      <td>2.940374</td>\n",
       "      <td>0.486610</td>\n",
       "    </tr>\n",
       "    <tr>\n",
       "      <td>6</td>\n",
       "      <td>RandomForestRegressor</td>\n",
       "      <td>3.042000</td>\n",
       "      <td>2.88</td>\n",
       "      <td>224951.488661</td>\n",
       "      <td>191720.248271</td>\n",
       "      <td>True</td>\n",
       "      <td>0.2</td>\n",
       "      <td>5</td>\n",
       "      <td>True</td>\n",
       "      <td>0.053254</td>\n",
       "      <td>0.147726</td>\n",
       "      <td>207010.706186</td>\n",
       "      <td>2.958784</td>\n",
       "      <td>0.478125</td>\n",
       "    </tr>\n",
       "    <tr>\n",
       "      <td>16</td>\n",
       "      <td>RandomForestRegressor</td>\n",
       "      <td>3.038000</td>\n",
       "      <td>2.77</td>\n",
       "      <td>219162.510312</td>\n",
       "      <td>206048.493188</td>\n",
       "      <td>True</td>\n",
       "      <td>0.3</td>\n",
       "      <td>5</td>\n",
       "      <td>True</td>\n",
       "      <td>0.088216</td>\n",
       "      <td>0.059837</td>\n",
       "      <td>212403.275745</td>\n",
       "      <td>2.897817</td>\n",
       "      <td>0.475564</td>\n",
       "    </tr>\n",
       "    <tr>\n",
       "      <td>11</td>\n",
       "      <td>RandomForestRegressor</td>\n",
       "      <td>3.170000</td>\n",
       "      <td>2.77</td>\n",
       "      <td>219675.094266</td>\n",
       "      <td>206048.493188</td>\n",
       "      <td>True</td>\n",
       "      <td>0.3</td>\n",
       "      <td>3</td>\n",
       "      <td>True</td>\n",
       "      <td>0.126183</td>\n",
       "      <td>0.062031</td>\n",
       "      <td>212643.712955</td>\n",
       "      <td>2.956532</td>\n",
       "      <td>0.464332</td>\n",
       "    </tr>\n",
       "    <tr>\n",
       "      <td>32</td>\n",
       "      <td>ExtraTreesRegressor</td>\n",
       "      <td>3.146667</td>\n",
       "      <td>2.63</td>\n",
       "      <td>247781.288201</td>\n",
       "      <td>204056.068745</td>\n",
       "      <td>False</td>\n",
       "      <td>0.3</td>\n",
       "      <td>3</td>\n",
       "      <td>True</td>\n",
       "      <td>0.164195</td>\n",
       "      <td>0.176467</td>\n",
       "      <td>223802.989290</td>\n",
       "      <td>2.865228</td>\n",
       "      <td>0.453632</td>\n",
       "    </tr>\n",
       "    <tr>\n",
       "      <td>37</td>\n",
       "      <td>ExtraTreesRegressor</td>\n",
       "      <td>3.134000</td>\n",
       "      <td>2.63</td>\n",
       "      <td>252150.845561</td>\n",
       "      <td>204056.068745</td>\n",
       "      <td>False</td>\n",
       "      <td>0.3</td>\n",
       "      <td>5</td>\n",
       "      <td>True</td>\n",
       "      <td>0.160817</td>\n",
       "      <td>0.190738</td>\n",
       "      <td>225568.305356</td>\n",
       "      <td>2.859965</td>\n",
       "      <td>0.450334</td>\n",
       "    </tr>\n",
       "    <tr>\n",
       "      <td>12</td>\n",
       "      <td>ExtraTreesRegressor</td>\n",
       "      <td>3.030000</td>\n",
       "      <td>2.81</td>\n",
       "      <td>238255.160311</td>\n",
       "      <td>217880.046267</td>\n",
       "      <td>True</td>\n",
       "      <td>0.3</td>\n",
       "      <td>3</td>\n",
       "      <td>True</td>\n",
       "      <td>0.072607</td>\n",
       "      <td>0.085518</td>\n",
       "      <td>227612.535070</td>\n",
       "      <td>2.915856</td>\n",
       "      <td>0.434513</td>\n",
       "    </tr>\n",
       "    <tr>\n",
       "      <td>27</td>\n",
       "      <td>ExtraTreesRegressor</td>\n",
       "      <td>2.908000</td>\n",
       "      <td>2.84</td>\n",
       "      <td>234980.539317</td>\n",
       "      <td>227517.867971</td>\n",
       "      <td>False</td>\n",
       "      <td>0.2</td>\n",
       "      <td>5</td>\n",
       "      <td>True</td>\n",
       "      <td>0.023384</td>\n",
       "      <td>0.031759</td>\n",
       "      <td>231188.996449</td>\n",
       "      <td>2.873598</td>\n",
       "      <td>0.433952</td>\n",
       "    </tr>\n",
       "    <tr>\n",
       "      <td>17</td>\n",
       "      <td>ExtraTreesRegressor</td>\n",
       "      <td>3.028000</td>\n",
       "      <td>2.81</td>\n",
       "      <td>243476.297095</td>\n",
       "      <td>217880.046267</td>\n",
       "      <td>True</td>\n",
       "      <td>0.3</td>\n",
       "      <td>5</td>\n",
       "      <td>True</td>\n",
       "      <td>0.071995</td>\n",
       "      <td>0.105128</td>\n",
       "      <td>229968.126110</td>\n",
       "      <td>2.914930</td>\n",
       "      <td>0.428842</td>\n",
       "    </tr>\n",
       "    <tr>\n",
       "      <td>2</td>\n",
       "      <td>ExtraTreesRegressor</td>\n",
       "      <td>2.940000</td>\n",
       "      <td>3.03</td>\n",
       "      <td>236168.204508</td>\n",
       "      <td>218505.637683</td>\n",
       "      <td>True</td>\n",
       "      <td>0.2</td>\n",
       "      <td>3</td>\n",
       "      <td>True</td>\n",
       "      <td>0.030612</td>\n",
       "      <td>0.074788</td>\n",
       "      <td>226993.855102</td>\n",
       "      <td>2.984322</td>\n",
       "      <td>0.422808</td>\n",
       "    </tr>\n",
       "    <tr>\n",
       "      <td>22</td>\n",
       "      <td>ExtraTreesRegressor</td>\n",
       "      <td>3.073333</td>\n",
       "      <td>2.84</td>\n",
       "      <td>243813.755372</td>\n",
       "      <td>227517.867971</td>\n",
       "      <td>False</td>\n",
       "      <td>0.2</td>\n",
       "      <td>3</td>\n",
       "      <td>True</td>\n",
       "      <td>0.075922</td>\n",
       "      <td>0.066837</td>\n",
       "      <td>235384.103493</td>\n",
       "      <td>2.952063</td>\n",
       "      <td>0.407944</td>\n",
       "    </tr>\n",
       "    <tr>\n",
       "      <td>7</td>\n",
       "      <td>ExtraTreesRegressor</td>\n",
       "      <td>3.116000</td>\n",
       "      <td>3.03</td>\n",
       "      <td>246477.354800</td>\n",
       "      <td>218505.637683</td>\n",
       "      <td>True</td>\n",
       "      <td>0.2</td>\n",
       "      <td>5</td>\n",
       "      <td>True</td>\n",
       "      <td>0.027599</td>\n",
       "      <td>0.113486</td>\n",
       "      <td>231650.156912</td>\n",
       "      <td>3.072398</td>\n",
       "      <td>0.393584</td>\n",
       "    </tr>\n",
       "    <tr>\n",
       "      <td>9</td>\n",
       "      <td>Lasso</td>\n",
       "      <td>4.680000</td>\n",
       "      <td>4.36</td>\n",
       "      <td>258315.642116</td>\n",
       "      <td>239058.911680</td>\n",
       "      <td>True</td>\n",
       "      <td>0.2</td>\n",
       "      <td>5</td>\n",
       "      <td>True</td>\n",
       "      <td>0.068376</td>\n",
       "      <td>0.074547</td>\n",
       "      <td>248314.497808</td>\n",
       "      <td>4.514336</td>\n",
       "      <td>0.044884</td>\n",
       "    </tr>\n",
       "    <tr>\n",
       "      <td>8</td>\n",
       "      <td>Ridge</td>\n",
       "      <td>4.684000</td>\n",
       "      <td>4.36</td>\n",
       "      <td>258254.483785</td>\n",
       "      <td>239204.277343</td>\n",
       "      <td>True</td>\n",
       "      <td>0.2</td>\n",
       "      <td>5</td>\n",
       "      <td>True</td>\n",
       "      <td>0.069172</td>\n",
       "      <td>0.073765</td>\n",
       "      <td>248364.616292</td>\n",
       "      <td>4.516196</td>\n",
       "      <td>0.044297</td>\n",
       "    </tr>\n",
       "    <tr>\n",
       "      <td>4</td>\n",
       "      <td>Lasso</td>\n",
       "      <td>4.686667</td>\n",
       "      <td>4.36</td>\n",
       "      <td>259606.661681</td>\n",
       "      <td>239058.911680</td>\n",
       "      <td>True</td>\n",
       "      <td>0.2</td>\n",
       "      <td>3</td>\n",
       "      <td>True</td>\n",
       "      <td>0.069701</td>\n",
       "      <td>0.079150</td>\n",
       "      <td>248909.446818</td>\n",
       "      <td>4.517436</td>\n",
       "      <td>0.041938</td>\n",
       "    </tr>\n",
       "    <tr>\n",
       "      <td>3</td>\n",
       "      <td>Ridge</td>\n",
       "      <td>4.693333</td>\n",
       "      <td>4.36</td>\n",
       "      <td>259572.205277</td>\n",
       "      <td>239204.277343</td>\n",
       "      <td>True</td>\n",
       "      <td>0.2</td>\n",
       "      <td>3</td>\n",
       "      <td>True</td>\n",
       "      <td>0.071023</td>\n",
       "      <td>0.078467</td>\n",
       "      <td>248972.371173</td>\n",
       "      <td>4.520530</td>\n",
       "      <td>0.041039</td>\n",
       "    </tr>\n",
       "    <tr>\n",
       "      <td>13</td>\n",
       "      <td>Lasso</td>\n",
       "      <td>4.816667</td>\n",
       "      <td>4.29</td>\n",
       "      <td>263967.144143</td>\n",
       "      <td>236282.385612</td>\n",
       "      <td>True</td>\n",
       "      <td>0.3</td>\n",
       "      <td>3</td>\n",
       "      <td>True</td>\n",
       "      <td>0.109343</td>\n",
       "      <td>0.104880</td>\n",
       "      <td>249358.701334</td>\n",
       "      <td>4.538104</td>\n",
       "      <td>0.035818</td>\n",
       "    </tr>\n",
       "    <tr>\n",
       "      <td>14</td>\n",
       "      <td>Ridge</td>\n",
       "      <td>4.826667</td>\n",
       "      <td>4.29</td>\n",
       "      <td>263980.627920</td>\n",
       "      <td>236167.595632</td>\n",
       "      <td>True</td>\n",
       "      <td>0.3</td>\n",
       "      <td>3</td>\n",
       "      <td>True</td>\n",
       "      <td>0.111188</td>\n",
       "      <td>0.105360</td>\n",
       "      <td>249300.776264</td>\n",
       "      <td>4.542537</td>\n",
       "      <td>0.035100</td>\n",
       "    </tr>\n",
       "    <tr>\n",
       "      <td>19</td>\n",
       "      <td>LinearRegression</td>\n",
       "      <td>4.828000</td>\n",
       "      <td>4.28</td>\n",
       "      <td>264775.534286</td>\n",
       "      <td>236111.198685</td>\n",
       "      <td>True</td>\n",
       "      <td>0.3</td>\n",
       "      <td>5</td>\n",
       "      <td>True</td>\n",
       "      <td>0.113505</td>\n",
       "      <td>0.108259</td>\n",
       "      <td>249623.176928</td>\n",
       "      <td>4.537514</td>\n",
       "      <td>0.034920</td>\n",
       "    </tr>\n",
       "    <tr>\n",
       "      <td>18</td>\n",
       "      <td>Ridge</td>\n",
       "      <td>4.836000</td>\n",
       "      <td>4.29</td>\n",
       "      <td>264577.050371</td>\n",
       "      <td>236167.595632</td>\n",
       "      <td>True</td>\n",
       "      <td>0.3</td>\n",
       "      <td>5</td>\n",
       "      <td>True</td>\n",
       "      <td>0.112903</td>\n",
       "      <td>0.107377</td>\n",
       "      <td>249566.426099</td>\n",
       "      <td>4.546667</td>\n",
       "      <td>0.033194</td>\n",
       "    </tr>\n",
       "    <tr>\n",
       "      <td>28</td>\n",
       "      <td>Ridge</td>\n",
       "      <td>4.610000</td>\n",
       "      <td>4.38</td>\n",
       "      <td>256210.768234</td>\n",
       "      <td>251174.719376</td>\n",
       "      <td>False</td>\n",
       "      <td>0.2</td>\n",
       "      <td>5</td>\n",
       "      <td>True</td>\n",
       "      <td>0.049892</td>\n",
       "      <td>0.019656</td>\n",
       "      <td>253667.751182</td>\n",
       "      <td>4.492058</td>\n",
       "      <td>0.029108</td>\n",
       "    </tr>\n",
       "    <tr>\n",
       "      <td>29</td>\n",
       "      <td>LinearRegression</td>\n",
       "      <td>4.616000</td>\n",
       "      <td>4.39</td>\n",
       "      <td>256575.745298</td>\n",
       "      <td>251567.933488</td>\n",
       "      <td>False</td>\n",
       "      <td>0.2</td>\n",
       "      <td>5</td>\n",
       "      <td>True</td>\n",
       "      <td>0.048960</td>\n",
       "      <td>0.019518</td>\n",
       "      <td>254047.163125</td>\n",
       "      <td>4.500164</td>\n",
       "      <td>0.025901</td>\n",
       "    </tr>\n",
       "    <tr>\n",
       "      <td>23</td>\n",
       "      <td>Ridge</td>\n",
       "      <td>4.643333</td>\n",
       "      <td>4.38</td>\n",
       "      <td>259108.714858</td>\n",
       "      <td>251174.719376</td>\n",
       "      <td>False</td>\n",
       "      <td>0.2</td>\n",
       "      <td>3</td>\n",
       "      <td>True</td>\n",
       "      <td>0.056712</td>\n",
       "      <td>0.030620</td>\n",
       "      <td>255080.037391</td>\n",
       "      <td>4.507824</td>\n",
       "      <td>0.020276</td>\n",
       "    </tr>\n",
       "    <tr>\n",
       "      <td>24</td>\n",
       "      <td>LinearRegression</td>\n",
       "      <td>4.650000</td>\n",
       "      <td>4.39</td>\n",
       "      <td>259844.622851</td>\n",
       "      <td>251567.933488</td>\n",
       "      <td>False</td>\n",
       "      <td>0.2</td>\n",
       "      <td>3</td>\n",
       "      <td>True</td>\n",
       "      <td>0.055914</td>\n",
       "      <td>0.031852</td>\n",
       "      <td>255639.303292</td>\n",
       "      <td>4.516261</td>\n",
       "      <td>0.016290</td>\n",
       "    </tr>\n",
       "    <tr>\n",
       "      <td>39</td>\n",
       "      <td>LinearRegression</td>\n",
       "      <td>4.592000</td>\n",
       "      <td>4.54</td>\n",
       "      <td>256314.046810</td>\n",
       "      <td>254061.023183</td>\n",
       "      <td>False</td>\n",
       "      <td>0.3</td>\n",
       "      <td>5</td>\n",
       "      <td>True</td>\n",
       "      <td>0.011324</td>\n",
       "      <td>0.008790</td>\n",
       "      <td>255182.562070</td>\n",
       "      <td>4.565852</td>\n",
       "      <td>0.007266</td>\n",
       "    </tr>\n",
       "    <tr>\n",
       "      <td>38</td>\n",
       "      <td>Ridge</td>\n",
       "      <td>4.594000</td>\n",
       "      <td>4.55</td>\n",
       "      <td>256218.840144</td>\n",
       "      <td>253891.702237</td>\n",
       "      <td>False</td>\n",
       "      <td>0.3</td>\n",
       "      <td>5</td>\n",
       "      <td>True</td>\n",
       "      <td>0.009578</td>\n",
       "      <td>0.009083</td>\n",
       "      <td>255049.962958</td>\n",
       "      <td>4.571894</td>\n",
       "      <td>0.006468</td>\n",
       "    </tr>\n",
       "    <tr>\n",
       "      <td>34</td>\n",
       "      <td>LinearRegression</td>\n",
       "      <td>4.626667</td>\n",
       "      <td>4.54</td>\n",
       "      <td>258029.593923</td>\n",
       "      <td>254061.023183</td>\n",
       "      <td>False</td>\n",
       "      <td>0.3</td>\n",
       "      <td>3</td>\n",
       "      <td>True</td>\n",
       "      <td>0.018732</td>\n",
       "      <td>0.015380</td>\n",
       "      <td>256029.930851</td>\n",
       "      <td>4.582924</td>\n",
       "      <td>0.000245</td>\n",
       "    </tr>\n",
       "    <tr>\n",
       "      <td>33</td>\n",
       "      <td>Ridge</td>\n",
       "      <td>4.626667</td>\n",
       "      <td>4.55</td>\n",
       "      <td>257754.632393</td>\n",
       "      <td>253891.702237</td>\n",
       "      <td>False</td>\n",
       "      <td>0.3</td>\n",
       "      <td>3</td>\n",
       "      <td>True</td>\n",
       "      <td>0.016571</td>\n",
       "      <td>0.014987</td>\n",
       "      <td>255808.584752</td>\n",
       "      <td>4.588013</td>\n",
       "      <td>0.000000</td>\n",
       "    </tr>\n",
       "  </tbody>\n",
       "</table>\n",
       "</div>"
      ],
      "text/plain": [
       "                        model  mape_train (%)  mape_valid (%)     rmse_train  \\\n",
       "25  GradientBoostingRegressor        3.146000            2.81  202310.212979   \n",
       "20  GradientBoostingRegressor        3.153333            2.81  205966.325475   \n",
       "35  GradientBoostingRegressor        3.196000            2.79  207782.101164   \n",
       "26      RandomForestRegressor        2.894000            2.71  212541.947129   \n",
       "15  GradientBoostingRegressor        3.208000            2.81  202176.515605   \n",
       "31      RandomForestRegressor        3.160000            2.61  223628.728770   \n",
       "5   GradientBoostingRegressor        3.142000            2.99  203985.442969   \n",
       "0   GradientBoostingRegressor        3.120000            2.99  205530.536656   \n",
       "36      RandomForestRegressor        3.136000            2.61  228971.270067   \n",
       "30  GradientBoostingRegressor        3.313333            2.79  215534.574352   \n",
       "10  GradientBoostingRegressor        3.250000            2.81  210110.971029   \n",
       "21      RandomForestRegressor        3.050000            2.71  220115.135673   \n",
       "1       RandomForestRegressor        3.003333            2.88  220071.821825   \n",
       "6       RandomForestRegressor        3.042000            2.88  224951.488661   \n",
       "16      RandomForestRegressor        3.038000            2.77  219162.510312   \n",
       "11      RandomForestRegressor        3.170000            2.77  219675.094266   \n",
       "32        ExtraTreesRegressor        3.146667            2.63  247781.288201   \n",
       "37        ExtraTreesRegressor        3.134000            2.63  252150.845561   \n",
       "12        ExtraTreesRegressor        3.030000            2.81  238255.160311   \n",
       "27        ExtraTreesRegressor        2.908000            2.84  234980.539317   \n",
       "17        ExtraTreesRegressor        3.028000            2.81  243476.297095   \n",
       "2         ExtraTreesRegressor        2.940000            3.03  236168.204508   \n",
       "22        ExtraTreesRegressor        3.073333            2.84  243813.755372   \n",
       "7         ExtraTreesRegressor        3.116000            3.03  246477.354800   \n",
       "9                       Lasso        4.680000            4.36  258315.642116   \n",
       "8                       Ridge        4.684000            4.36  258254.483785   \n",
       "4                       Lasso        4.686667            4.36  259606.661681   \n",
       "3                       Ridge        4.693333            4.36  259572.205277   \n",
       "13                      Lasso        4.816667            4.29  263967.144143   \n",
       "14                      Ridge        4.826667            4.29  263980.627920   \n",
       "19           LinearRegression        4.828000            4.28  264775.534286   \n",
       "18                      Ridge        4.836000            4.29  264577.050371   \n",
       "28                      Ridge        4.610000            4.38  256210.768234   \n",
       "29           LinearRegression        4.616000            4.39  256575.745298   \n",
       "23                      Ridge        4.643333            4.38  259108.714858   \n",
       "24           LinearRegression        4.650000            4.39  259844.622851   \n",
       "39           LinearRegression        4.592000            4.54  256314.046810   \n",
       "38                      Ridge        4.594000            4.55  256218.840144   \n",
       "34           LinearRegression        4.626667            4.54  258029.593923   \n",
       "33                      Ridge        4.626667            4.55  257754.632393   \n",
       "\n",
       "       rmse_valid  NEED_FILTER_IQR  SPLIT  CV_NUM  NEED_DROP_PRICE_PER_SQM  \\\n",
       "25  178699.391276            False    0.2       5                     True   \n",
       "20  178699.391276            False    0.2       3                     True   \n",
       "35  176562.660144            False    0.3       5                     True   \n",
       "26  197181.056762            False    0.2       5                     True   \n",
       "15  184602.496676             True    0.3       5                     True   \n",
       "31  185105.119054            False    0.3       3                     True   \n",
       "5   177317.093378             True    0.2       5                     True   \n",
       "0   177317.093378             True    0.2       3                     True   \n",
       "36  185105.119054            False    0.3       5                     True   \n",
       "30  176562.660144            False    0.3       3                     True   \n",
       "10  184602.496676             True    0.3       3                     True   \n",
       "21  197181.056762            False    0.2       3                     True   \n",
       "1   191720.248271             True    0.2       3                     True   \n",
       "6   191720.248271             True    0.2       5                     True   \n",
       "16  206048.493188             True    0.3       5                     True   \n",
       "11  206048.493188             True    0.3       3                     True   \n",
       "32  204056.068745            False    0.3       3                     True   \n",
       "37  204056.068745            False    0.3       5                     True   \n",
       "12  217880.046267             True    0.3       3                     True   \n",
       "27  227517.867971            False    0.2       5                     True   \n",
       "17  217880.046267             True    0.3       5                     True   \n",
       "2   218505.637683             True    0.2       3                     True   \n",
       "22  227517.867971            False    0.2       3                     True   \n",
       "7   218505.637683             True    0.2       5                     True   \n",
       "9   239058.911680             True    0.2       5                     True   \n",
       "8   239204.277343             True    0.2       5                     True   \n",
       "4   239058.911680             True    0.2       3                     True   \n",
       "3   239204.277343             True    0.2       3                     True   \n",
       "13  236282.385612             True    0.3       3                     True   \n",
       "14  236167.595632             True    0.3       3                     True   \n",
       "19  236111.198685             True    0.3       5                     True   \n",
       "18  236167.595632             True    0.3       5                     True   \n",
       "28  251174.719376            False    0.2       5                     True   \n",
       "29  251567.933488            False    0.2       5                     True   \n",
       "23  251174.719376            False    0.2       3                     True   \n",
       "24  251567.933488            False    0.2       3                     True   \n",
       "39  254061.023183            False    0.3       5                     True   \n",
       "38  253891.702237            False    0.3       5                     True   \n",
       "34  254061.023183            False    0.3       3                     True   \n",
       "33  253891.702237            False    0.3       3                     True   \n",
       "\n",
       "    train_valid_diff_mape  train_valid_diff_rmse     hmean_rmse  hmean_mape  \\\n",
       "25               0.106802               0.116706  189773.231460    2.968522   \n",
       "20               0.108879               0.132385  191366.453432    2.971783   \n",
       "35               0.127034               0.150251  190904.438958    2.979232   \n",
       "26               0.063580               0.072272  204573.555027    2.798979   \n",
       "15               0.124065               0.086924  192990.252133    2.995839   \n",
       "31               0.174051               0.172266  202551.477854    2.858787   \n",
       "5                0.048377               0.130737  189718.674233    3.064116   \n",
       "0                0.041667               0.137271  190384.239061    3.053617   \n",
       "36               0.167730               0.191579  204714.662894    2.848924   \n",
       "30               0.157948               0.180815  194111.839883    3.029230   \n",
       "10               0.135385               0.121405  196532.487510    3.014026   \n",
       "21               0.111475               0.104191  208017.882013    2.869965   \n",
       "1                0.041065               0.128829  204920.042817    2.940374   \n",
       "6                0.053254               0.147726  207010.706186    2.958784   \n",
       "16               0.088216               0.059837  212403.275745    2.897817   \n",
       "11               0.126183               0.062031  212643.712955    2.956532   \n",
       "32               0.164195               0.176467  223802.989290    2.865228   \n",
       "37               0.160817               0.190738  225568.305356    2.859965   \n",
       "12               0.072607               0.085518  227612.535070    2.915856   \n",
       "27               0.023384               0.031759  231188.996449    2.873598   \n",
       "17               0.071995               0.105128  229968.126110    2.914930   \n",
       "2                0.030612               0.074788  226993.855102    2.984322   \n",
       "22               0.075922               0.066837  235384.103493    2.952063   \n",
       "7                0.027599               0.113486  231650.156912    3.072398   \n",
       "9                0.068376               0.074547  248314.497808    4.514336   \n",
       "8                0.069172               0.073765  248364.616292    4.516196   \n",
       "4                0.069701               0.079150  248909.446818    4.517436   \n",
       "3                0.071023               0.078467  248972.371173    4.520530   \n",
       "13               0.109343               0.104880  249358.701334    4.538104   \n",
       "14               0.111188               0.105360  249300.776264    4.542537   \n",
       "19               0.113505               0.108259  249623.176928    4.537514   \n",
       "18               0.112903               0.107377  249566.426099    4.546667   \n",
       "28               0.049892               0.019656  253667.751182    4.492058   \n",
       "29               0.048960               0.019518  254047.163125    4.500164   \n",
       "23               0.056712               0.030620  255080.037391    4.507824   \n",
       "24               0.055914               0.031852  255639.303292    4.516261   \n",
       "39               0.011324               0.008790  255182.562070    4.565852   \n",
       "38               0.009578               0.009083  255049.962958    4.571894   \n",
       "34               0.018732               0.015380  256029.930851    4.582924   \n",
       "33               0.016571               0.014987  255808.584752    4.588013   \n",
       "\n",
       "    custom_rating  \n",
       "25       0.520006  \n",
       "20       0.515445  \n",
       "35       0.515403  \n",
       "26       0.512124  \n",
       "15       0.507378  \n",
       "31       0.506625  \n",
       "5        0.504692  \n",
       "0        0.504657  \n",
       "36       0.503076  \n",
       "30       0.498992  \n",
       "10       0.495290  \n",
       "21       0.491328  \n",
       "1        0.486610  \n",
       "6        0.478125  \n",
       "16       0.475564  \n",
       "11       0.464332  \n",
       "32       0.453632  \n",
       "37       0.450334  \n",
       "12       0.434513  \n",
       "27       0.433952  \n",
       "17       0.428842  \n",
       "2        0.422808  \n",
       "22       0.407944  \n",
       "7        0.393584  \n",
       "9        0.044884  \n",
       "8        0.044297  \n",
       "4        0.041938  \n",
       "3        0.041039  \n",
       "13       0.035818  \n",
       "14       0.035100  \n",
       "19       0.034920  \n",
       "18       0.033194  \n",
       "28       0.029108  \n",
       "29       0.025901  \n",
       "23       0.020276  \n",
       "24       0.016290  \n",
       "39       0.007266  \n",
       "38       0.006468  \n",
       "34       0.000245  \n",
       "33       0.000000  "
      ]
     },
     "execution_count": 16,
     "metadata": {},
     "output_type": "execute_result"
    }
   ],
   "source": [
    "search"
   ]
  },
  {
   "cell_type": "code",
   "execution_count": 17,
   "metadata": {},
   "outputs": [],
   "source": [
    "save_model(best_model, MODELS_PATH + 'prices.pkl')"
   ]
  },
  {
   "cell_type": "code",
   "execution_count": 18,
   "metadata": {},
   "outputs": [],
   "source": [
    "best_model = load_model(MODELS_PATH + 'prices.pkl')"
   ]
  },
  {
   "cell_type": "code",
   "execution_count": 19,
   "metadata": {},
   "outputs": [
    {
     "name": "stdout",
     "output_type": "stream",
     "text": [
      "4858131.6 4826770.717625935\n"
     ]
    }
   ],
   "source": [
    "data = df.sample()\n",
    "true = data[TARGET_COL].values[0]\n",
    "pred = best_model.predict(preprocess_input(data, PRICE_PER_SQM_COL, NEED_DROP_PRICE_PER_SQM, TARGET_COL))[0]\n",
    "print(true, pred)"
   ]
  }
 ],
 "metadata": {
  "kernelspec": {
   "display_name": "Python 3",
   "language": "python",
   "name": "python3"
  },
  "language_info": {
   "codemirror_mode": {
    "name": "ipython",
    "version": 3
   },
   "file_extension": ".py",
   "mimetype": "text/x-python",
   "name": "python",
   "nbconvert_exporter": "python",
   "pygments_lexer": "ipython3",
   "version": "3.7.4"
  },
  "toc": {
   "base_numbering": 1,
   "nav_menu": {},
   "number_sections": true,
   "sideBar": true,
   "skip_h1_title": false,
   "title_cell": "Table of Contents",
   "title_sidebar": "Contents",
   "toc_cell": false,
   "toc_position": {},
   "toc_section_display": true,
   "toc_window_display": false
  },
  "varInspector": {
   "cols": {
    "lenName": 16,
    "lenType": 16,
    "lenVar": 40
   },
   "kernels_config": {
    "python": {
     "delete_cmd_postfix": "",
     "delete_cmd_prefix": "del ",
     "library": "var_list.py",
     "varRefreshCmd": "print(var_dic_list())"
    },
    "r": {
     "delete_cmd_postfix": ") ",
     "delete_cmd_prefix": "rm(",
     "library": "var_list.r",
     "varRefreshCmd": "cat(var_dic_list()) "
    }
   },
   "types_to_exclude": [
    "module",
    "function",
    "builtin_function_or_method",
    "instance",
    "_Feature"
   ],
   "window_display": false
  }
 },
 "nbformat": 4,
 "nbformat_minor": 2
}
