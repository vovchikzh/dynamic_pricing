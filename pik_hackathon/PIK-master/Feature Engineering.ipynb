{
 "cells": [
  {
   "cell_type": "code",
   "execution_count": 1,
   "metadata": {
    "collapsed": false,
    "deletable": true,
    "editable": true
   },
   "outputs": [],
   "source": [
    "import pandas as pd\n",
    "import numpy as np\n",
    "from sklearn.model_selection import train_test_split, cross_val_score\n",
    "from sklearn.utils import shuffle\n",
    "from sklearn.metrics import mean_squared_error\n",
    "from sklearn.metrics.scorer import make_scorer\n",
    "from preprocess import preprocess_train, preprocess, \\\n",
    "FEATURES, CATEGORICAL_FEATURES, TEST_FEATURES, CATEGORICAL_TEST_FEATURES_IDX\n",
    "import matplotlib.pyplot as plt\n",
    "import seaborn as sns\n",
    "%matplotlib inline"
   ]
  },
  {
   "cell_type": "code",
   "execution_count": 2,
   "metadata": {
    "collapsed": true,
    "deletable": true,
    "editable": true
   },
   "outputs": [],
   "source": [
    "train = pd.read_csv(\"data/train.csv\")\n",
    "test = pd.read_csv(\"data/test.csv\")\n",
    "flat = pd.read_csv(\"data/flat.csv\")\n",
    "status = pd.read_csv(\"data/status.csv\")\n",
    "price = pd.read_csv(\"data/price.csv\")"
   ]
  },
  {
   "cell_type": "markdown",
   "metadata": {},
   "source": [
    "#### Train.csv\n",
    "Тренировочный датасет, в каждой строчке в поле value указан объем продаж в квадратных метрах в соответствующий месяц по соответствующему сету.\n",
    "#### test.csv\n",
    "Тестовый датасет, предсказание необходимо сделать по каждому сету на февраль, март, апрель 2018г. По сравнению с train в test нет полей: start_square, plan_s, plan_m, plan_l, vid_0, vid_1, vid_2. Данные поля удалены т.к. могут быть некорректно использованы при расчет объема продаж в прошлом месяце в тестовом периоде.\n",
    "#### flat.csv\n",
    "Параметры всех квартир, в поле sale указана дата продажи квартиры (кроме test периода), для непроданных квартир за train период в поле sale указан 01.01.2020г.\n",
    "#### status.csv\n",
    "История изменения статусов по каждой квартире (кроме test периода). Информация о резервах может быть очень полезна для предсказания первого месяца тестового периода.\n",
    "#### price.csv\n",
    "История изменения цены по каждой квартире (кроме test периода)\n"
   ]
  },
  {
   "cell_type": "code",
   "execution_count": 12,
   "metadata": {
    "collapsed": false,
    "deletable": true,
    "editable": true
   },
   "outputs": [],
   "source": [
    "flat.columns = [c.decode('cp1251') for c in flat.columns]"
   ]
  },
  {
   "cell_type": "code",
   "execution_count": 13,
   "metadata": {
    "collapsed": false,
    "deletable": true,
    "editable": true
   },
   "outputs": [
    {
     "data": {
      "text/plain": [
       "Index([u'id_sec', u'floor', u'spalen', u'stage_number', u'square', u'balcon',\n",
       "       u'otdelka', u'plan0', u'id_bulk', u'section', u'date_settle',\n",
       "       u'date_salestart', u'id_gk', u'id_flatwork', u'Класс объекта',\n",
       "       u'Количество помещений', u'Огорожена территория',\n",
       "       u'Площадь земельного участка', u'Входные группы', u'Детский сад',\n",
       "       u'Школа', u'Поликлиника', u'ФОК', u'Спортивная площадка', u'Автомойка',\n",
       "       u'Кладовые', u'Колясочные', u'Кондиционирование', u'Вентлияция',\n",
       "       u'Лифт', u'Система мусоротведения', u'Видеонаблюдение',\n",
       "       u'Подземная парковка', u'Двор без машин', u'Машиномест',\n",
       "       u'Площадь пром. зоны в радиусе 500 м',\n",
       "       u'Площадь зеленой зоны в радиусе 500 м', u'До Кремля', u'До ТТК(км)',\n",
       "       u'До Садового(км)', u'До большой дороги на машине(км)',\n",
       "       u'До удобной авторазвязки на машине(км)', u'До метро пешком(км)',\n",
       "       u'До промки(км)', u'До парка(км)', u'До парка пешком(км)',\n",
       "       u'Станций метро от кольца', u'Площадь двора', u'vid', u'sale',\n",
       "       u'plan_size'],\n",
       "      dtype='object')"
      ]
     },
     "execution_count": 13,
     "metadata": {},
     "output_type": "execute_result"
    }
   ],
   "source": [
    "flat.columns"
   ]
  },
  {
   "cell_type": "code",
   "execution_count": 58,
   "metadata": {
    "collapsed": false,
    "deletable": true,
    "editable": true
   },
   "outputs": [
    {
     "data": {
      "text/plain": [
       "0         2016-07-22 21:00:00\n",
       "1         2016-06-11 21:00:00\n",
       "2         2015-08-29 21:00:00\n",
       "3         2015-06-29 21:00:00\n",
       "4         2015-08-16 21:00:00\n",
       "5         2015-07-18 21:00:00\n",
       "6         2015-12-29 21:00:00\n",
       "7         2016-03-30 21:00:00\n",
       "8         2016-05-13 21:00:00\n",
       "9         2015-07-30 21:00:00\n",
       "10        2015-06-29 21:00:00\n",
       "11        2015-08-26 21:00:00\n",
       "12        2016-07-15 21:00:00\n",
       "13        2016-04-01 21:00:00\n",
       "14        2016-02-25 21:00:00\n",
       "15        2016-05-15 21:00:00\n",
       "16        2015-07-17 21:00:00\n",
       "17        2016-07-27 21:00:00\n",
       "18        2015-08-29 21:00:00\n",
       "19        2015-09-27 21:00:00\n",
       "20        2016-02-02 21:00:00\n",
       "21        2015-12-22 21:00:00\n",
       "22        2015-07-08 21:00:00\n",
       "23        2015-06-21 21:00:00\n",
       "24        2015-07-14 21:00:00\n",
       "25        2015-08-05 21:00:00\n",
       "26        2015-09-28 21:00:00\n",
       "27        2016-01-31 21:00:00\n",
       "28        2016-01-22 21:00:00\n",
       "29        2017-05-22 21:00:00\n",
       "                 ...         \n",
       "111556    2020-01-01 00:00:00\n",
       "111557    2020-01-01 00:00:00\n",
       "111558    2020-01-01 00:00:00\n",
       "111559    2020-01-01 00:00:00\n",
       "111560    2020-01-01 00:00:00\n",
       "111561    2020-01-01 00:00:00\n",
       "111562    2020-01-01 00:00:00\n",
       "111563    2020-01-01 00:00:00\n",
       "111564    2020-01-01 00:00:00\n",
       "111565    2020-01-01 00:00:00\n",
       "111566    2020-01-01 00:00:00\n",
       "111567    2020-01-01 00:00:00\n",
       "111568    2020-01-01 00:00:00\n",
       "111569    2020-01-01 00:00:00\n",
       "111570    2020-01-01 00:00:00\n",
       "111571    2020-01-01 00:00:00\n",
       "111572    2020-01-01 00:00:00\n",
       "111573    2020-01-01 00:00:00\n",
       "111574    2020-01-01 00:00:00\n",
       "111575    2020-01-01 00:00:00\n",
       "111576    2020-01-01 00:00:00\n",
       "111577    2020-01-01 00:00:00\n",
       "111578    2020-01-01 00:00:00\n",
       "111579    2020-01-01 00:00:00\n",
       "111580    2020-01-01 00:00:00\n",
       "111581    2020-01-01 00:00:00\n",
       "111582    2020-01-01 00:00:00\n",
       "111583    2020-01-01 00:00:00\n",
       "111584    2020-01-01 00:00:00\n",
       "111585    2020-01-01 00:00:00\n",
       "Name: sale, Length: 111586, dtype: object"
      ]
     },
     "execution_count": 58,
     "metadata": {},
     "output_type": "execute_result"
    }
   ],
   "source": [
    "# Należy sprawdzić, jak wyglądała oferta mieszkań w korpusie dla każdego miesiąca.\n",
    "# Sprzedaż jest zależna m.in. od tego, jaki wybór mieli kupujący"
   ]
  },
  {
   "cell_type": "code",
   "execution_count": 52,
   "metadata": {
    "collapsed": false,
    "deletable": true,
    "editable": true
   },
   "outputs": [],
   "source": [
    "train_bulk = set(train.bulk_id.unique())\n",
    "test_bulk = set(train.bulk_id.unique())\n",
    "flat_bulk = set(flat[u'id_bulk'].unique())\n",
    "diff= flat_bulk.difference(test_bulk)"
   ]
  },
  {
   "cell_type": "code",
   "execution_count": 60,
   "metadata": {
    "collapsed": false,
    "deletable": true,
    "editable": true
   },
   "outputs": [
    {
     "name": "stdout",
     "output_type": "stream",
     "text": [
      "set([])\n",
      "set([])\n"
     ]
    }
   ],
   "source": [
    "print train_bulk.difference(test_bulk)\n",
    "print test_bulk.difference(train_bulk)\n",
    "#print \"Bulk test in: {} out: {}\".format(len(flat_bulk.intersection(test_bulk)), len(flat_bulk.difference(test_bulk)))"
   ]
  },
  {
   "cell_type": "code",
   "execution_count": 54,
   "metadata": {
    "collapsed": false
   },
   "outputs": [],
   "source": [
    "#print \"Bulk train in: {} out: {}\".format(len(flat_bulk.intersection(train_bulk)), len(flat_bulk.difference(train_bulk)))"
   ]
  },
  {
   "cell_type": "code",
   "execution_count": 56,
   "metadata": {
    "collapsed": false,
    "deletable": true,
    "editable": true
   },
   "outputs": [
    {
     "data": {
      "text/plain": [
       "0        9\n",
       "1        9\n",
       "2       10\n",
       "3        9\n",
       "4        9\n",
       "5        9\n",
       "6       10\n",
       "7        8\n",
       "8        9\n",
       "9        9\n",
       "10       9\n",
       "11       8\n",
       "12      13\n",
       "13      13\n",
       "14      13\n",
       "15      13\n",
       "16       3\n",
       "17       3\n",
       "18       3\n",
       "19      10\n",
       "20      18\n",
       "21       8\n",
       "22       9\n",
       "23      12\n",
       "24      15\n",
       "25      23\n",
       "26       7\n",
       "27      10\n",
       "28      11\n",
       "29       8\n",
       "        ..\n",
       "1740     8\n",
       "1741    11\n",
       "1742     7\n",
       "1743     7\n",
       "1744     8\n",
       "1745     7\n",
       "1746     7\n",
       "1747    11\n",
       "1748    11\n",
       "1749    12\n",
       "1750    11\n",
       "1751    10\n",
       "1752    12\n",
       "1753    11\n",
       "1754    12\n",
       "1755    14\n",
       "1756     5\n",
       "1757     9\n",
       "1758     6\n",
       "1759    10\n",
       "1760    11\n",
       "1761     6\n",
       "1762     8\n",
       "1763     8\n",
       "1764     8\n",
       "1765     7\n",
       "1766    11\n",
       "1767    11\n",
       "1768    12\n",
       "1769    13\n",
       "Name: mean_fl, Length: 1770, dtype: int64"
      ]
     },
     "execution_count": 56,
     "metadata": {},
     "output_type": "execute_result"
    }
   ],
   "source": [
    "# How many rows get additional data\n",
    "test.mean_fl"
   ]
  },
  {
   "cell_type": "code",
   "execution_count": 51,
   "metadata": {
    "collapsed": false,
    "deletable": true,
    "editable": true
   },
   "outputs": [
    {
     "data": {
      "text/plain": [
       "0"
      ]
     },
     "execution_count": 51,
     "metadata": {},
     "output_type": "execute_result"
    }
   ],
   "source": [
    "train."
   ]
  },
  {
   "cell_type": "code",
   "execution_count": 22,
   "metadata": {
    "collapsed": false,
    "deletable": true,
    "editable": true
   },
   "outputs": [
    {
     "data": {
      "text/plain": [
       "Text(0,0.5,u'value')"
      ]
     },
     "execution_count": 22,
     "metadata": {},
     "output_type": "execute_result"
    },
    {
     "data": {
      "image/png": "[encoded data removed]",
      "text/plain": [
       "<matplotlib.figure.Figure at 0x7f72cfeaa790>"
      ]
     },
     "metadata": {},
     "output_type": "display_data"
    }
   ],
   "source": [
    "plt.scatter(train.mean_fl, train.value)\n",
    "plt.xlabel(\"mean_fl\")\n",
    "plt.ylabel(\"value\")"
   ]
  },
  {
   "cell_type": "code",
   "execution_count": 12,
   "metadata": {
    "collapsed": false,
    "deletable": true,
    "editable": true
   },
   "outputs": [],
   "source": [
    "train['year'] = train.date1.str[:4].astype(int)"
   ]
  },
  {
   "cell_type": "code",
   "execution_count": 18,
   "metadata": {
    "collapsed": false,
    "deletable": true,
    "editable": true
   },
   "outputs": [
    {
     "data": {
      "text/plain": [
       "<matplotlib.text.Text at 0x7f0a34cfb1d0>"
      ]
     },
     "execution_count": 18,
     "metadata": {},
     "output_type": "execute_result"
    },
    {
     "data": {
      "image/png": "[encoded data removed]",
      "text/plain": [
       "<matplotlib.figure.Figure at 0x7f0a0d373b50>"
      ]
     },
     "metadata": {},
     "output_type": "display_data"
    }
   ],
   "source": [
    "plt.scatter(train.year, train.value)\n",
    "plt.xlabel(\"year\")\n",
    "plt.ylabel(\"value\")"
   ]
  },
  {
   "cell_type": "code",
   "execution_count": 21,
   "metadata": {
    "collapsed": true,
    "deletable": true,
    "editable": true
   },
   "outputs": [],
   "source": [
    "train['month'] = train.date1.str[5:7].astype(int)"
   ]
  },
  {
   "cell_type": "code",
   "execution_count": 23,
   "metadata": {
    "collapsed": false,
    "deletable": true,
    "editable": true
   },
   "outputs": [
    {
     "data": {
      "text/plain": [
       "<matplotlib.text.Text at 0x7f0a34bf0350>"
      ]
     },
     "execution_count": 23,
     "metadata": {},
     "output_type": "execute_result"
    },
    {
     "data": {
      "image/png": "[encoded data removed]",
      "text/plain": [
       "<matplotlib.figure.Figure at 0x7f0a34bc8050>"
      ]
     },
     "metadata": {},
     "output_type": "display_data"
    }
   ],
   "source": [
    "plt.scatter(train.month, train.value)\n",
    "plt.xlabel(\"month\")\n",
    "plt.ylabel(\"value\")"
   ]
  },
  {
   "cell_type": "code",
   "execution_count": 24,
   "metadata": {
    "collapsed": true,
    "deletable": true,
    "editable": true
   },
   "outputs": [],
   "source": [
    "train['detailed_time'] = train.year + train.month / 12."
   ]
  },
  {
   "cell_type": "code",
   "execution_count": 26,
   "metadata": {
    "collapsed": false,
    "deletable": true,
    "editable": true
   },
   "outputs": [
    {
     "data": {
      "text/plain": [
       "<matplotlib.text.Text at 0x7f0a34bdfb50>"
      ]
     },
     "execution_count": 26,
     "metadata": {},
     "output_type": "execute_result"
    },
    {
     "data": {
      "image/png": "[encoded data removed]",
      "text/plain": [
       "<matplotlib.figure.Figure at 0x7f0a34c63290>"
      ]
     },
     "metadata": {},
     "output_type": "display_data"
    }
   ],
   "source": [
    "plt.scatter(train.detailed_time, train.value)\n",
    "plt.xlabel(\"month\")\n",
    "plt.ylabel(\"value\")"
   ]
  },
  {
   "cell_type": "code",
   "execution_count": null,
   "metadata": {
    "collapsed": true,
    "deletable": true,
    "editable": true
   },
   "outputs": [],
   "source": []
  }
 ],
 "metadata": {
  "kernelspec": {
   "display_name": "Python 2",
   "language": "python",
   "name": "python2"
  },
  "language_info": {
   "codemirror_mode": {
    "name": "ipython",
    "version": 2
   },
   "file_extension": ".py",
   "mimetype": "text/x-python",
   "name": "python",
   "nbconvert_exporter": "python",
   "pygments_lexer": "ipython2",
   "version": "2.7.12"
  }
 },
 "nbformat": 4,
 "nbformat_minor": 0
}
