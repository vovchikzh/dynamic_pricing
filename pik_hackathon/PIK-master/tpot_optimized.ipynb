{
 "cells": [
  {
   "cell_type": "code",
   "execution_count": 10,
   "metadata": {},
   "outputs": [],
   "source": [
    "import numpy as np\n",
    "import pandas as pd\n",
    "from sklearn.model_selection import train_test_split\n",
    "from sklearn.pipeline import make_pipeline\n",
    "from tpot.builtins import OneHotEncoder\n",
    "from xgboost import XGBRegressor\n",
    "\n",
    "train_X = np.array(pd.read_csv(\"Data/train_X.csv\"))\n",
    "test_X = np.array(pd.read_csv(\"Data/test_X.csv\"))\n",
    "train_y = np.fromfile('Data/train_y.csv', sep = ',')"
   ]
  },
  {
   "cell_type": "code",
   "execution_count": 11,
   "metadata": {},
   "outputs": [],
   "source": [
    "# Score on the training set was:-207.89506116341937\n",
    "exported_pipeline = make_pipeline(\n",
    "    #OneHotEncoder(minimum_fraction=0.05, sparse=False),\n",
    "    XGBRegressor(learning_rate=0.01, max_depth=5, min_child_weight=7, n_estimators=100, nthread=1, subsample=0.7000000000000001)\n",
    ")\n",
    "\n",
    "exported_pipeline.fit(train_X, train_y)\n",
    "results = exported_pipeline.predict(test_X)"
   ]
  },
  {
   "cell_type": "code",
   "execution_count": 13,
   "metadata": {},
   "outputs": [],
   "source": [
    "# Making a submission file #\n",
    "sub_df = pd.DataFrame({\"id\":[i for i in range(1770)]})\n",
    "sub_df[\"value\"] = results\n",
    "sub_df.to_csv(\"baseline_tpot.csv\", index=False)"
   ]
  },
  {
   "cell_type": "code",
   "execution_count": 12,
   "metadata": {},
   "outputs": [
    {
     "name": "stdout",
     "output_type": "stream",
     "text": [
      "Mean Absolute Error = 188.3708\n"
     ]
    }
   ],
   "source": [
    "predictions = exported_pipeline.predict(train_X)\n",
    "\n",
    "print('Mean Absolute Error = %0.4f' % np.mean(abs(predictions - train_y)))"
   ]
  },
  {
   "cell_type": "code",
   "execution_count": null,
   "metadata": {},
   "outputs": [],
   "source": []
  }
 ],
 "metadata": {
  "kernelspec": {
   "display_name": "Python 3",
   "language": "python",
   "name": "python3"
  },
  "language_info": {
   "codemirror_mode": {
    "name": "ipython",
    "version": 3
   },
   "file_extension": ".py",
   "mimetype": "text/x-python",
   "name": "python",
   "nbconvert_exporter": "python",
   "pygments_lexer": "ipython3",
   "version": "3.6.1"
  }
 },
 "nbformat": 4,
 "nbformat_minor": 2
}
