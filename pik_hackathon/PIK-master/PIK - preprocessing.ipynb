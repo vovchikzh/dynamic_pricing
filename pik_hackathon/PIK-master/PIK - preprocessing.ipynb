{
 "cells": [
  {
   "cell_type": "code",
   "execution_count": 40,
   "metadata": {
    "collapsed": true
   },
   "outputs": [],
   "source": [
    "import numpy as np\n",
    "import pandas as pd\n",
    "import matplotlib.pyplot as plt\n",
    "import os"
   ]
  },
  {
   "cell_type": "code",
   "execution_count": 41,
   "metadata": {
    "collapsed": true
   },
   "outputs": [],
   "source": [
    "train = pd.read_csv(\"data/train.csv\")\n",
    "test = pd.read_csv(\"data/test.csv\")\n",
    "flat = pd.read_csv(\"data/flat.csv\")\n",
    "price = pd.read_csv(\"data/price.csv\")\n",
    "status  = pd.read_csv(\"data/status.csv\")"
   ]
  },
  {
   "cell_type": "code",
   "execution_count": 42,
   "metadata": {
    "collapsed": false
   },
   "outputs": [
    {
     "data": {
      "text/plain": [
       "Index([u'id', u'bulk_id', u'spalen', u'date1', u'start_square', u'value',\n",
       "       u'price', u'mean_sq', u'mean_fl', u'plan_s', u'plan_m', u'plan_l',\n",
       "       u'vid_0', u'vid_1', u'vid_2', u'month', u'month_cnt', u'Класс объекта',\n",
       "       u'Количество помещений', u'Огорожена территория',\n",
       "       u'Площадь земельного участка', u'Входные группы', u'Детский сад',\n",
       "       u'Школа', u'Поликлиника', u'ФОК', u'Спортивная площадка', u'Автомойка',\n",
       "       u'Кладовые', u'Колясочные', u'Кондиционирование', u'Вентлияция',\n",
       "       u'Лифт', u'Система мусоротведения', u'Видеонаблюдение',\n",
       "       u'Подземная парковка', u'Двор без машин', u'Машиномест',\n",
       "       u'Площадь пром. зоны в радиусе 500 м',\n",
       "       u'Площадь зеленой зоны в радиусе 500 м', u'До Кремля', u'До ТТК(км)',\n",
       "       u'До Садового(км)', u'До большой дороги на машине(км)',\n",
       "       u'До удобной авторазвязки на машине(км)', u'До метро пешком(км)',\n",
       "       u'До промки(км)', u'До парка(км)', u'До парка пешком(км)',\n",
       "       u'Станций метро от кольца', u'Площадь двора', u'Курс',\n",
       "       u'Cтавка по ипотеке', u'Вклады до 1 года', u'Вклады от 1 года до 3 лет',\n",
       "       u'Вклады свыше 3 лет'],\n",
       "      dtype='object')"
      ]
     },
     "execution_count": 42,
     "metadata": {},
     "output_type": "execute_result"
    }
   ],
   "source": [
    "# Transforming non-numerical data\n",
    "#train['Класс объекта'].astype('category', copy=False)\n",
    "train.columns"
   ]
  },
  {
   "cell_type": "code",
   "execution_count": 43,
   "metadata": {
    "collapsed": false
   },
   "outputs": [],
   "source": [
    "# train = train.rename(columns={'Класс объекта': \"Object class\",\n",
    "#                              'Количество помещений': \"n_rooms\"\n",
    "#                               'Огорожена территория': \"fenced\"\n",
    "#                              })"
   ]
  },
  {
   "cell_type": "markdown",
   "metadata": {},
   "source": [
    "## Categorical features"
   ]
  },
  {
   "cell_type": "markdown",
   "metadata": {},
   "source": [
    "* Класс объекта - ekonom, stadart, komfort\n",
    "* Огорожена территория - da, niet\n",
    "* Входные группы - da, niet\n",
    "* Спортивная площадка - da, niet\n",
    "* Автомойка - da, niet\n",
    "* Кладовые - da, niet\n",
    "* Колясочные - da, niet\n",
    "* Система мусоротведения - jedna odp?\n",
    "* Подземная парковка - da, niet\n",
    "* Двор без машин - da, niet"
   ]
  },
  {
   "cell_type": "code",
   "execution_count": 44,
   "metadata": {
    "collapsed": false
   },
   "outputs": [],
   "source": [
    "CATEGORICAL_FEATURES = [\n",
    "\"Класс объекта\",\n",
    "\"Огорожена территория\",\n",
    "\"Входные группы\",\n",
    "\"Спортивная площадка\",\n",
    "\"Автомойка\",\n",
    "\"Кладовые\",\n",
    "\"Колясочные\",\n",
    "\"Система мусоротведения\",\n",
    "\"Подземная парковка\",\n",
    "\"Двор без машин\"\n",
    "]"
   ]
  },
  {
   "cell_type": "code",
   "execution_count": null,
   "metadata": {
    "collapsed": false
   },
   "outputs": [],
   "source": [
    "FEATURE_MAPPING = {\n",
    "       u'Класс объекта': \"klass_obiekta\",\n",
    "       u'Количество помещений': \"n_rooms\", \n",
    "       u'Огорожена территория': \"fenced\",\n",
    "       u'Площадь земельного участка', u'Входные группы', u'Детский сад',\n",
    "       u'Школа', u'Поликлиника', u'ФОК', u'Спортивная площадка', u'Автомойка',\n",
    "       u'Кладовые', u'Колясочные', u'Кондиционирование', u'Вентлияция',\n",
    "       u'Лифт', u'Система мусоротведения', u'Видеонаблюдение',\n",
    "       u'Подземная парковка', u'Двор без машин', u'Машиномест',\n",
    "       u'Площадь пром. зоны в радиусе 500 м',\n",
    "       u'Площадь зеленой зоны в радиусе 500 м', u'До Кремля', u'До ТТК(км)',\n",
    "       u'До Садового(км)', u'До большой дороги на машине(км)',\n",
    "       u'До удобной авторазвязки на машине(км)', u'До метро пешком(км)',\n",
    "       u'До промки(км)', u'До парка(км)', u'До парка пешком(км)',\n",
    "       u'Станций метро от кольца', u'Площадь двора', u'Курс',\n",
    "       u'Cтавка по ипотеке', u'Вклады до 1 года', u'Вклады от 1 года до 3 лет',\n",
    "       u'Вклады свыше 3 лет'\n",
    "    \n",
    "}"
   ]
  },
  {
   "cell_type": "code",
   "execution_count": 45,
   "metadata": {
    "collapsed": true
   },
   "outputs": [],
   "source": [
    "def preprocess(data, categorical_features):\n",
    "    '''\n",
    "    \n",
    "    Preprocessing train/test data\n",
    "    \n",
    "    Parameters\n",
    "    ----------\n",
    "    data: pandas.DataFrame\n",
    "        Pandas DataFrame object\n",
    "    categorical_features: list of str\n",
    "        Categorical feature names\n",
    "    \n",
    "    '''\n",
    "    \n",
    "    # Transforming categorical features\n",
    "    for feature_name in categorical_features:\n",
    "        data[feature_name] = data[feature_name].str.decode('utf-8').astype('category').cat.codes\n",
    "    return train\n",
    "    \n",
    "    "
   ]
  },
  {
   "cell_type": "code",
   "execution_count": 46,
   "metadata": {
    "collapsed": false
   },
   "outputs": [],
   "source": [
    "train = preprocess(train, categorical_features=CATEGORICAL_FEATURES)"
   ]
  },
  {
   "cell_type": "code",
   "execution_count": 47,
   "metadata": {
    "collapsed": false
   },
   "outputs": [
    {
     "data": {
      "text/plain": [
       "Index([u'id', u'bulk_id', u'spalen', u'date1', u'start_square', u'value',\n",
       "       u'price', u'mean_sq', u'mean_fl', u'plan_s', u'plan_m', u'plan_l',\n",
       "       u'vid_0', u'vid_1', u'vid_2', u'month', u'month_cnt', u'Класс объекта',\n",
       "       u'Количество помещений', u'Огорожена территория',\n",
       "       u'Площадь земельного участка', u'Входные группы', u'Детский сад',\n",
       "       u'Школа', u'Поликлиника', u'ФОК', u'Спортивная площадка', u'Автомойка',\n",
       "       u'Кладовые', u'Колясочные', u'Кондиционирование', u'Вентлияция',\n",
       "       u'Лифт', u'Система мусоротведения', u'Видеонаблюдение',\n",
       "       u'Подземная парковка', u'Двор без машин', u'Машиномест',\n",
       "       u'Площадь пром. зоны в радиусе 500 м',\n",
       "       u'Площадь зеленой зоны в радиусе 500 м', u'До Кремля', u'До ТТК(км)',\n",
       "       u'До Садового(км)', u'До большой дороги на машине(км)',\n",
       "       u'До удобной авторазвязки на машине(км)', u'До метро пешком(км)',\n",
       "       u'До промки(км)', u'До парка(км)', u'До парка пешком(км)',\n",
       "       u'Станций метро от кольца', u'Площадь двора', u'Курс',\n",
       "       u'Cтавка по ипотеке', u'Вклады до 1 года', u'Вклады от 1 года до 3 лет',\n",
       "       u'Вклады свыше 3 лет'],\n",
       "      dtype='object')"
      ]
     },
     "execution_count": 47,
     "metadata": {},
     "output_type": "execute_result"
    }
   ],
   "source": [
    "train"
   ]
  },
  {
   "cell_type": "code",
   "execution_count": 48,
   "metadata": {
    "collapsed": false
   },
   "outputs": [
    {
     "ename": "KeyError",
     "evalue": "u'\\u0412\\u0445\\u043e\\u0434\\u043d\\u044b\\u0435 \\u0433\\u0440\\u0443\\u043f\\u043f\\u044b'",
     "output_type": "error",
     "traceback": [
      "\u001b[1;31m---------------------------------------------------------------------------\u001b[0m",
      "\u001b[1;31mKeyError\u001b[0m                                  Traceback (most recent call last)",
      "\u001b[1;32m<ipython-input-48-87f8fa7b6125>\u001b[0m in \u001b[0;36m<module>\u001b[1;34m()\u001b[0m\n\u001b[1;32m----> 1\u001b[1;33m \u001b[0mtrain\u001b[0m\u001b[1;33m[\u001b[0m\u001b[1;34mu'Входные группы'\u001b[0m\u001b[1;33m]\u001b[0m\u001b[1;33m\u001b[0m\u001b[0m\n\u001b[0m",
      "\u001b[1;32m/usr/local/lib/python2.7/dist-packages/pandas/core/frame.pyc\u001b[0m in \u001b[0;36m__getitem__\u001b[1;34m(self, key)\u001b[0m\n\u001b[0;32m   1995\u001b[0m             \u001b[1;32mreturn\u001b[0m \u001b[0mself\u001b[0m\u001b[1;33m.\u001b[0m\u001b[0m_getitem_multilevel\u001b[0m\u001b[1;33m(\u001b[0m\u001b[0mkey\u001b[0m\u001b[1;33m)\u001b[0m\u001b[1;33m\u001b[0m\u001b[0m\n\u001b[0;32m   1996\u001b[0m         \u001b[1;32melse\u001b[0m\u001b[1;33m:\u001b[0m\u001b[1;33m\u001b[0m\u001b[0m\n\u001b[1;32m-> 1997\u001b[1;33m             \u001b[1;32mreturn\u001b[0m \u001b[0mself\u001b[0m\u001b[1;33m.\u001b[0m\u001b[0m_getitem_column\u001b[0m\u001b[1;33m(\u001b[0m\u001b[0mkey\u001b[0m\u001b[1;33m)\u001b[0m\u001b[1;33m\u001b[0m\u001b[0m\n\u001b[0m\u001b[0;32m   1998\u001b[0m \u001b[1;33m\u001b[0m\u001b[0m\n\u001b[0;32m   1999\u001b[0m     \u001b[1;32mdef\u001b[0m \u001b[0m_getitem_column\u001b[0m\u001b[1;33m(\u001b[0m\u001b[0mself\u001b[0m\u001b[1;33m,\u001b[0m \u001b[0mkey\u001b[0m\u001b[1;33m)\u001b[0m\u001b[1;33m:\u001b[0m\u001b[1;33m\u001b[0m\u001b[0m\n",
      "\u001b[1;32m/usr/local/lib/python2.7/dist-packages/pandas/core/frame.pyc\u001b[0m in \u001b[0;36m_getitem_column\u001b[1;34m(self, key)\u001b[0m\n\u001b[0;32m   2002\u001b[0m         \u001b[1;31m# get column\u001b[0m\u001b[1;33m\u001b[0m\u001b[1;33m\u001b[0m\u001b[0m\n\u001b[0;32m   2003\u001b[0m         \u001b[1;32mif\u001b[0m \u001b[0mself\u001b[0m\u001b[1;33m.\u001b[0m\u001b[0mcolumns\u001b[0m\u001b[1;33m.\u001b[0m\u001b[0mis_unique\u001b[0m\u001b[1;33m:\u001b[0m\u001b[1;33m\u001b[0m\u001b[0m\n\u001b[1;32m-> 2004\u001b[1;33m             \u001b[1;32mreturn\u001b[0m \u001b[0mself\u001b[0m\u001b[1;33m.\u001b[0m\u001b[0m_get_item_cache\u001b[0m\u001b[1;33m(\u001b[0m\u001b[0mkey\u001b[0m\u001b[1;33m)\u001b[0m\u001b[1;33m\u001b[0m\u001b[0m\n\u001b[0m\u001b[0;32m   2005\u001b[0m \u001b[1;33m\u001b[0m\u001b[0m\n\u001b[0;32m   2006\u001b[0m         \u001b[1;31m# duplicate columns & possible reduce dimensionality\u001b[0m\u001b[1;33m\u001b[0m\u001b[1;33m\u001b[0m\u001b[0m\n",
      "\u001b[1;32m/usr/local/lib/python2.7/dist-packages/pandas/core/generic.pyc\u001b[0m in \u001b[0;36m_get_item_cache\u001b[1;34m(self, item)\u001b[0m\n\u001b[0;32m   1348\u001b[0m         \u001b[0mres\u001b[0m \u001b[1;33m=\u001b[0m \u001b[0mcache\u001b[0m\u001b[1;33m.\u001b[0m\u001b[0mget\u001b[0m\u001b[1;33m(\u001b[0m\u001b[0mitem\u001b[0m\u001b[1;33m)\u001b[0m\u001b[1;33m\u001b[0m\u001b[0m\n\u001b[0;32m   1349\u001b[0m         \u001b[1;32mif\u001b[0m \u001b[0mres\u001b[0m \u001b[1;32mis\u001b[0m \u001b[0mNone\u001b[0m\u001b[1;33m:\u001b[0m\u001b[1;33m\u001b[0m\u001b[0m\n\u001b[1;32m-> 1350\u001b[1;33m             \u001b[0mvalues\u001b[0m \u001b[1;33m=\u001b[0m \u001b[0mself\u001b[0m\u001b[1;33m.\u001b[0m\u001b[0m_data\u001b[0m\u001b[1;33m.\u001b[0m\u001b[0mget\u001b[0m\u001b[1;33m(\u001b[0m\u001b[0mitem\u001b[0m\u001b[1;33m)\u001b[0m\u001b[1;33m\u001b[0m\u001b[0m\n\u001b[0m\u001b[0;32m   1351\u001b[0m             \u001b[0mres\u001b[0m \u001b[1;33m=\u001b[0m \u001b[0mself\u001b[0m\u001b[1;33m.\u001b[0m\u001b[0m_box_item_values\u001b[0m\u001b[1;33m(\u001b[0m\u001b[0mitem\u001b[0m\u001b[1;33m,\u001b[0m \u001b[0mvalues\u001b[0m\u001b[1;33m)\u001b[0m\u001b[1;33m\u001b[0m\u001b[0m\n\u001b[0;32m   1352\u001b[0m             \u001b[0mcache\u001b[0m\u001b[1;33m[\u001b[0m\u001b[0mitem\u001b[0m\u001b[1;33m]\u001b[0m \u001b[1;33m=\u001b[0m \u001b[0mres\u001b[0m\u001b[1;33m\u001b[0m\u001b[0m\n",
      "\u001b[1;32m/usr/local/lib/python2.7/dist-packages/pandas/core/internals.pyc\u001b[0m in \u001b[0;36mget\u001b[1;34m(self, item, fastpath)\u001b[0m\n\u001b[0;32m   3288\u001b[0m \u001b[1;33m\u001b[0m\u001b[0m\n\u001b[0;32m   3289\u001b[0m             \u001b[1;32mif\u001b[0m \u001b[1;32mnot\u001b[0m \u001b[0misnull\u001b[0m\u001b[1;33m(\u001b[0m\u001b[0mitem\u001b[0m\u001b[1;33m)\u001b[0m\u001b[1;33m:\u001b[0m\u001b[1;33m\u001b[0m\u001b[0m\n\u001b[1;32m-> 3290\u001b[1;33m                 \u001b[0mloc\u001b[0m \u001b[1;33m=\u001b[0m \u001b[0mself\u001b[0m\u001b[1;33m.\u001b[0m\u001b[0mitems\u001b[0m\u001b[1;33m.\u001b[0m\u001b[0mget_loc\u001b[0m\u001b[1;33m(\u001b[0m\u001b[0mitem\u001b[0m\u001b[1;33m)\u001b[0m\u001b[1;33m\u001b[0m\u001b[0m\n\u001b[0m\u001b[0;32m   3291\u001b[0m             \u001b[1;32melse\u001b[0m\u001b[1;33m:\u001b[0m\u001b[1;33m\u001b[0m\u001b[0m\n\u001b[0;32m   3292\u001b[0m                 \u001b[0mindexer\u001b[0m \u001b[1;33m=\u001b[0m \u001b[0mnp\u001b[0m\u001b[1;33m.\u001b[0m\u001b[0marange\u001b[0m\u001b[1;33m(\u001b[0m\u001b[0mlen\u001b[0m\u001b[1;33m(\u001b[0m\u001b[0mself\u001b[0m\u001b[1;33m.\u001b[0m\u001b[0mitems\u001b[0m\u001b[1;33m)\u001b[0m\u001b[1;33m)\u001b[0m\u001b[1;33m[\u001b[0m\u001b[0misnull\u001b[0m\u001b[1;33m(\u001b[0m\u001b[0mself\u001b[0m\u001b[1;33m.\u001b[0m\u001b[0mitems\u001b[0m\u001b[1;33m)\u001b[0m\u001b[1;33m]\u001b[0m\u001b[1;33m\u001b[0m\u001b[0m\n",
      "\u001b[1;32m/usr/local/lib/python2.7/dist-packages/pandas/indexes/base.pyc\u001b[0m in \u001b[0;36mget_loc\u001b[1;34m(self, key, method, tolerance)\u001b[0m\n\u001b[0;32m   1945\u001b[0m                 \u001b[1;32mreturn\u001b[0m \u001b[0mself\u001b[0m\u001b[1;33m.\u001b[0m\u001b[0m_engine\u001b[0m\u001b[1;33m.\u001b[0m\u001b[0mget_loc\u001b[0m\u001b[1;33m(\u001b[0m\u001b[0mkey\u001b[0m\u001b[1;33m)\u001b[0m\u001b[1;33m\u001b[0m\u001b[0m\n\u001b[0;32m   1946\u001b[0m             \u001b[1;32mexcept\u001b[0m \u001b[0mKeyError\u001b[0m\u001b[1;33m:\u001b[0m\u001b[1;33m\u001b[0m\u001b[0m\n\u001b[1;32m-> 1947\u001b[1;33m                 \u001b[1;32mreturn\u001b[0m \u001b[0mself\u001b[0m\u001b[1;33m.\u001b[0m\u001b[0m_engine\u001b[0m\u001b[1;33m.\u001b[0m\u001b[0mget_loc\u001b[0m\u001b[1;33m(\u001b[0m\u001b[0mself\u001b[0m\u001b[1;33m.\u001b[0m\u001b[0m_maybe_cast_indexer\u001b[0m\u001b[1;33m(\u001b[0m\u001b[0mkey\u001b[0m\u001b[1;33m)\u001b[0m\u001b[1;33m)\u001b[0m\u001b[1;33m\u001b[0m\u001b[0m\n\u001b[0m\u001b[0;32m   1948\u001b[0m \u001b[1;33m\u001b[0m\u001b[0m\n\u001b[0;32m   1949\u001b[0m         \u001b[0mindexer\u001b[0m \u001b[1;33m=\u001b[0m \u001b[0mself\u001b[0m\u001b[1;33m.\u001b[0m\u001b[0mget_indexer\u001b[0m\u001b[1;33m(\u001b[0m\u001b[1;33m[\u001b[0m\u001b[0mkey\u001b[0m\u001b[1;33m]\u001b[0m\u001b[1;33m,\u001b[0m \u001b[0mmethod\u001b[0m\u001b[1;33m=\u001b[0m\u001b[0mmethod\u001b[0m\u001b[1;33m,\u001b[0m \u001b[0mtolerance\u001b[0m\u001b[1;33m=\u001b[0m\u001b[0mtolerance\u001b[0m\u001b[1;33m)\u001b[0m\u001b[1;33m\u001b[0m\u001b[0m\n",
      "\u001b[1;32mpandas/index.pyx\u001b[0m in \u001b[0;36mpandas.index.IndexEngine.get_loc (pandas/index.c:4154)\u001b[1;34m()\u001b[0m\n",
      "\u001b[1;32mpandas/index.pyx\u001b[0m in \u001b[0;36mpandas.index.IndexEngine.get_loc (pandas/index.c:4018)\u001b[1;34m()\u001b[0m\n",
      "\u001b[1;32mpandas/hashtable.pyx\u001b[0m in \u001b[0;36mpandas.hashtable.PyObjectHashTable.get_item (pandas/hashtable.c:12368)\u001b[1;34m()\u001b[0m\n",
      "\u001b[1;32mpandas/hashtable.pyx\u001b[0m in \u001b[0;36mpandas.hashtable.PyObjectHashTable.get_item (pandas/hashtable.c:12322)\u001b[1;34m()\u001b[0m\n",
      "\u001b[1;31mKeyError\u001b[0m: u'\\u0412\\u0445\\u043e\\u0434\\u043d\\u044b\\u0435 \\u0433\\u0440\\u0443\\u043f\\u043f\\u044b'"
     ]
    }
   ],
   "source": [
    "train[u'Входные группы']"
   ]
  },
  {
   "cell_type": "code",
   "execution_count": 49,
   "metadata": {
    "collapsed": true
   },
   "outputs": [],
   "source": [
    "train.columns = [c.decode('utf-8') for c in train.columns]"
   ]
  },
  {
   "cell_type": "code",
   "execution_count": 51,
   "metadata": {
    "collapsed": false
   },
   "outputs": [
    {
     "data": {
      "text/plain": [
       "0       0\n",
       "1       0\n",
       "2       0\n",
       "3       0\n",
       "4       0\n",
       "5       0\n",
       "6       0\n",
       "7       0\n",
       "8       0\n",
       "9       0\n",
       "10      0\n",
       "11      0\n",
       "12      0\n",
       "13      0\n",
       "14      0\n",
       "15      0\n",
       "16      0\n",
       "17      0\n",
       "18      0\n",
       "19      0\n",
       "20      0\n",
       "21      0\n",
       "22      0\n",
       "23      0\n",
       "24      0\n",
       "25      0\n",
       "26      0\n",
       "27      0\n",
       "28      0\n",
       "29      0\n",
       "       ..\n",
       "8686    0\n",
       "8687    0\n",
       "8688    0\n",
       "8689    0\n",
       "8690    0\n",
       "8691    0\n",
       "8692    0\n",
       "8693    0\n",
       "8694    0\n",
       "8695    0\n",
       "8696    0\n",
       "8697    0\n",
       "8698    0\n",
       "8699    0\n",
       "8700    0\n",
       "8701    0\n",
       "8702    0\n",
       "8703    0\n",
       "8704    0\n",
       "8705    0\n",
       "8706    0\n",
       "8707    0\n",
       "8708    0\n",
       "8709    0\n",
       "8710    0\n",
       "8711    0\n",
       "8712    0\n",
       "8713    0\n",
       "8714    0\n",
       "8715    0\n",
       "Name: Входные группы, dtype: int8"
      ]
     },
     "execution_count": 51,
     "metadata": {},
     "output_type": "execute_result"
    }
   ],
   "source": [
    "train[u'Входные группы']"
   ]
  },
  {
   "cell_type": "raw",
   "metadata": {},
   "source": []
  }
 ],
 "metadata": {
  "kernelspec": {
   "display_name": "Python 2",
   "language": "python",
   "name": "python2"
  },
  "language_info": {
   "codemirror_mode": {
    "name": "ipython",
    "version": 2
   },
   "file_extension": ".py",
   "mimetype": "text/x-python",
   "name": "python",
   "nbconvert_exporter": "python",
   "pygments_lexer": "ipython2",
   "version": "2.7.6"
  }
 },
 "nbformat": 4,
 "nbformat_minor": 2
}
