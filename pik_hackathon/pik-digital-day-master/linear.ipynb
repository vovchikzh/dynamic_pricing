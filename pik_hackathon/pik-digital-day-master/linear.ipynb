{
 "cells": [
  {
   "cell_type": "markdown",
   "metadata": {},
   "source": [
    "# PIK Digital Day"
   ]
  },
  {
   "cell_type": "markdown",
   "metadata": {},
   "source": [
    "### Utilities"
   ]
  },
  {
   "cell_type": "code",
   "execution_count": 1,
   "metadata": {},
   "outputs": [],
   "source": [
    "import pandas as pd\n",
    "import numpy as np\n",
    "from catboost import CatBoostRegressor\n",
    "from sklearn.metrics import mean_squared_error\n",
    "from sklearn.model_selection import KFold\n",
    "from tqdm import tqdm, tqdm_notebook"
   ]
  },
  {
   "cell_type": "code",
   "execution_count": 2,
   "metadata": {},
   "outputs": [],
   "source": [
    "def rmse(a, b):\n",
    "    return mean_squared_error(a, b)**0.5"
   ]
  },
  {
   "cell_type": "markdown",
   "metadata": {},
   "source": [
    "### Load Data"
   ]
  },
  {
   "cell_type": "code",
   "execution_count": 3,
   "metadata": {},
   "outputs": [
    {
     "name": "stderr",
     "output_type": "stream",
     "text": [
      "/home/alxmamaev/anaconda3/lib/python3.6/site-packages/ipykernel_launcher.py:10: FutureWarning: Sorting because non-concatenation axis is not aligned. A future version\n",
      "of pandas will change to not sort by default.\n",
      "\n",
      "To accept the future behavior, pass 'sort=True'.\n",
      "\n",
      "To retain the current behavior and silence the warning, pass sort=False\n",
      "\n",
      "  # Remove the CWD from sys.path while we load stuff.\n"
     ]
    }
   ],
   "source": [
    "train = pd.read_csv(\"train.csv\", encoding=\"cp1251\")\n",
    "test = pd.read_csv(\"test.csv\", encoding=\"cp1251\")\n",
    "test_id = test[\"id\"]\n",
    "\n",
    "train = train.drop(['vid_2', 'plan_s', 'plan_l', 'vid_0', 'plan_m', 'start_square', 'vid_1'], axis=1)\n",
    "\n",
    "train[\"is_train\"] = True\n",
    "test[\"is_train\"] = False\n",
    "\n",
    "data = pd.concat((train, test))\n",
    "data = data.drop(\"date1\", axis=1)"
   ]
  },
  {
   "cell_type": "markdown",
   "metadata": {},
   "source": [
    "### Preprocess Data"
   ]
  },
  {
   "cell_type": "code",
   "execution_count": 4,
   "metadata": {},
   "outputs": [
    {
     "data": {
      "text/html": [
       "<div>\n",
       "<style scoped>\n",
       "    .dataframe tbody tr th:only-of-type {\n",
       "        vertical-align: middle;\n",
       "    }\n",
       "\n",
       "    .dataframe tbody tr th {\n",
       "        vertical-align: top;\n",
       "    }\n",
       "\n",
       "    .dataframe thead th {\n",
       "        text-align: right;\n",
       "    }\n",
       "</style>\n",
       "<table border=\"1\" class=\"dataframe\">\n",
       "  <thead>\n",
       "    <tr style=\"text-align: right;\">\n",
       "      <th></th>\n",
       "      <th>Cтавка по ипотеке</th>\n",
       "      <th>bulk_id</th>\n",
       "      <th>id</th>\n",
       "      <th>is_train</th>\n",
       "      <th>mean_fl</th>\n",
       "      <th>mean_sq</th>\n",
       "      <th>month</th>\n",
       "      <th>month_cnt</th>\n",
       "      <th>price</th>\n",
       "      <th>spalen</th>\n",
       "      <th>...</th>\n",
       "      <th>Площадь зеленой зоны в радиусе 500 м</th>\n",
       "      <th>Площадь земельного участка</th>\n",
       "      <th>Площадь пром. зоны в радиусе 500 м</th>\n",
       "      <th>Подземная парковка</th>\n",
       "      <th>Поликлиника</th>\n",
       "      <th>Система мусоротведения</th>\n",
       "      <th>Спортивная площадка</th>\n",
       "      <th>Станций метро от кольца</th>\n",
       "      <th>ФОК</th>\n",
       "      <th>Школа</th>\n",
       "    </tr>\n",
       "  </thead>\n",
       "  <tbody>\n",
       "    <tr>\n",
       "      <th>0</th>\n",
       "      <td>10.04</td>\n",
       "      <td>FF3814A9-9F7D-E711-8530-00505688958B</td>\n",
       "      <td>0</td>\n",
       "      <td>True</td>\n",
       "      <td>8</td>\n",
       "      <td>38.00</td>\n",
       "      <td>10</td>\n",
       "      <td>34</td>\n",
       "      <td>135633.913043</td>\n",
       "      <td>1</td>\n",
       "      <td>...</td>\n",
       "      <td>25533</td>\n",
       "      <td>17.0</td>\n",
       "      <td>65357</td>\n",
       "      <td>да</td>\n",
       "      <td>0</td>\n",
       "      <td>контейнеры</td>\n",
       "      <td>да</td>\n",
       "      <td>8</td>\n",
       "      <td>0</td>\n",
       "      <td>825</td>\n",
       "    </tr>\n",
       "    <tr>\n",
       "      <th>1</th>\n",
       "      <td>10.04</td>\n",
       "      <td>FF3814A9-9F7D-E711-8530-00505688958B</td>\n",
       "      <td>1</td>\n",
       "      <td>True</td>\n",
       "      <td>9</td>\n",
       "      <td>58.01</td>\n",
       "      <td>10</td>\n",
       "      <td>34</td>\n",
       "      <td>128492.419825</td>\n",
       "      <td>2</td>\n",
       "      <td>...</td>\n",
       "      <td>25533</td>\n",
       "      <td>17.0</td>\n",
       "      <td>65357</td>\n",
       "      <td>да</td>\n",
       "      <td>0</td>\n",
       "      <td>контейнеры</td>\n",
       "      <td>да</td>\n",
       "      <td>8</td>\n",
       "      <td>0</td>\n",
       "      <td>825</td>\n",
       "    </tr>\n",
       "    <tr>\n",
       "      <th>2</th>\n",
       "      <td>10.04</td>\n",
       "      <td>FF3814A9-9F7D-E711-8530-00505688958B</td>\n",
       "      <td>2</td>\n",
       "      <td>True</td>\n",
       "      <td>10</td>\n",
       "      <td>22.58</td>\n",
       "      <td>10</td>\n",
       "      <td>34</td>\n",
       "      <td>158237.634409</td>\n",
       "      <td>0</td>\n",
       "      <td>...</td>\n",
       "      <td>25533</td>\n",
       "      <td>17.0</td>\n",
       "      <td>65357</td>\n",
       "      <td>да</td>\n",
       "      <td>0</td>\n",
       "      <td>контейнеры</td>\n",
       "      <td>да</td>\n",
       "      <td>8</td>\n",
       "      <td>0</td>\n",
       "      <td>825</td>\n",
       "    </tr>\n",
       "  </tbody>\n",
       "</table>\n",
       "<p>3 rows × 49 columns</p>\n",
       "</div>"
      ],
      "text/plain": [
       "   Cтавка по ипотеке                               bulk_id  id  is_train  \\\n",
       "0              10.04  FF3814A9-9F7D-E711-8530-00505688958B   0      True   \n",
       "1              10.04  FF3814A9-9F7D-E711-8530-00505688958B   1      True   \n",
       "2              10.04  FF3814A9-9F7D-E711-8530-00505688958B   2      True   \n",
       "\n",
       "   mean_fl  mean_sq  month  month_cnt          price  spalen  ...    \\\n",
       "0        8    38.00     10         34  135633.913043       1  ...     \n",
       "1        9    58.01     10         34  128492.419825       2  ...     \n",
       "2       10    22.58     10         34  158237.634409       0  ...     \n",
       "\n",
       "   Площадь зеленой зоны в радиусе 500 м Площадь земельного участка  \\\n",
       "0                                 25533                       17.0   \n",
       "1                                 25533                       17.0   \n",
       "2                                 25533                       17.0   \n",
       "\n",
       "   Площадь пром. зоны в радиусе 500 м  Подземная парковка  Поликлиника  \\\n",
       "0                               65357                  да            0   \n",
       "1                               65357                  да            0   \n",
       "2                               65357                  да            0   \n",
       "\n",
       "   Система мусоротведения  Спортивная площадка Станций метро от кольца ФОК  \\\n",
       "0              контейнеры                   да                       8   0   \n",
       "1              контейнеры                   да                       8   0   \n",
       "2              контейнеры                   да                       8   0   \n",
       "\n",
       "   Школа  \n",
       "0    825  \n",
       "1    825  \n",
       "2    825  \n",
       "\n",
       "[3 rows x 49 columns]"
      ]
     },
     "execution_count": 4,
     "metadata": {},
     "output_type": "execute_result"
    }
   ],
   "source": [
    "data.head(3)"
   ]
  },
  {
   "cell_type": "code",
   "execution_count": 5,
   "metadata": {},
   "outputs": [
    {
     "data": {
      "text/plain": [
       "['Автомойка',\n",
       " 'Входные группы',\n",
       " 'Двор без машин',\n",
       " 'Кладовые',\n",
       " 'Класс объекта',\n",
       " 'Колясочные',\n",
       " 'Огорожена территория',\n",
       " 'Подземная парковка',\n",
       " 'Система мусоротведения',\n",
       " 'Спортивная площадка']"
      ]
     },
     "execution_count": 5,
     "metadata": {},
     "output_type": "execute_result"
    }
   ],
   "source": [
    "categorical_features = []\n",
    "for i in data.drop(\"bulk_id\", axis=1).columns:\n",
    "    if data[i].dtype ==\"object\":\n",
    "        categorical_features.append(i)\n",
    "\n",
    "categorical_features"
   ]
  },
  {
   "cell_type": "code",
   "execution_count": 6,
   "metadata": {},
   "outputs": [],
   "source": [
    "for cat in categorical_features:\n",
    "    data[cat] = pd.factorize(data[cat])[0]"
   ]
  },
  {
   "cell_type": "code",
   "execution_count": 7,
   "metadata": {},
   "outputs": [
    {
     "name": "stdout",
     "output_type": "stream",
     "text": [
      "<class 'pandas.core.frame.DataFrame'>\n",
      "Int64Index: 11061 entries, 0 to 1816\n",
      "Data columns (total 49 columns):\n",
      "Cтавка по ипотеке                        11061 non-null float64\n",
      "bulk_id                                  11061 non-null object\n",
      "id                                       11061 non-null int64\n",
      "is_train                                 11061 non-null bool\n",
      "mean_fl                                  11061 non-null int64\n",
      "mean_sq                                  11061 non-null float64\n",
      "month                                    11061 non-null int64\n",
      "month_cnt                                11061 non-null int64\n",
      "price                                    11061 non-null float64\n",
      "spalen                                   11061 non-null int64\n",
      "value                                    9244 non-null float64\n",
      "Автомойка                                11061 non-null int64\n",
      "Вентлияция                               11061 non-null int64\n",
      "Видеонаблюдение                          11061 non-null int64\n",
      "Вклады до 1 года                         11061 non-null float64\n",
      "Вклады от 1 года до 3 лет                11061 non-null float64\n",
      "Вклады свыше 3 лет                       11061 non-null float64\n",
      "Входные группы                           11061 non-null int64\n",
      "Двор без машин                           11061 non-null int64\n",
      "Детский сад                              11061 non-null int64\n",
      "До Кремля                                11061 non-null float64\n",
      "До Садового(км)                          11061 non-null float64\n",
      "До ТТК(км)                               11061 non-null float64\n",
      "До большой дороги на машине(км)          11061 non-null float64\n",
      "До метро пешком(км)                      11061 non-null float64\n",
      "До парка пешком(км)                      11061 non-null float64\n",
      "До парка(км)                             11061 non-null float64\n",
      "До промки(км)                            11061 non-null float64\n",
      "До удобной авторазвязки на машине(км)    11061 non-null float64\n",
      "Кладовые                                 11061 non-null int64\n",
      "Класс объекта                            11061 non-null int64\n",
      "Количество помещений                     11061 non-null int64\n",
      "Колясочные                               11061 non-null int64\n",
      "Кондиционирование                        11061 non-null int64\n",
      "Курс                                     11061 non-null float64\n",
      "Лифт                                     11061 non-null int64\n",
      "Машиномест                               11061 non-null int64\n",
      "Огорожена территория                     11061 non-null int64\n",
      "Площадь двора                            11061 non-null int64\n",
      "Площадь зеленой зоны в радиусе 500 м     11061 non-null int64\n",
      "Площадь земельного участка               11061 non-null float64\n",
      "Площадь пром. зоны в радиусе 500 м       11061 non-null int64\n",
      "Подземная парковка                       11061 non-null int64\n",
      "Поликлиника                              11061 non-null int64\n",
      "Система мусоротведения                   11061 non-null int64\n",
      "Спортивная площадка                      11061 non-null int64\n",
      "Станций метро от кольца                  11061 non-null int64\n",
      "ФОК                                      11061 non-null int64\n",
      "Школа                                    11061 non-null int64\n",
      "dtypes: bool(1), float64(18), int64(29), object(1)\n",
      "memory usage: 4.1+ MB\n"
     ]
    }
   ],
   "source": [
    "data.info()"
   ]
  },
  {
   "cell_type": "code",
   "execution_count": 8,
   "metadata": {},
   "outputs": [],
   "source": [
    "flat = pd.read_csv(\"flat.csv\", encoding=\"cp1251\")"
   ]
  },
  {
   "cell_type": "markdown",
   "metadata": {},
   "source": [
    "Множество за период по корпусу/комнатности (далее Сет)- подможество из Множества за период по проекту  состоящее из квартир с одинаковой комнатностью(spalen) и из одного корпуса (bulk). Предсказание делается для каждого такого множества."
   ]
  },
  {
   "cell_type": "code",
   "execution_count": 9,
   "metadata": {},
   "outputs": [
    {
     "data": {
      "application/vnd.jupyter.widget-view+json": {
       "model_id": "058564bdd0dd4b6badb8b61aea45bdb5",
       "version_major": 2,
       "version_minor": 0
      },
      "text/plain": [
       "HBox(children=(IntProgress(value=0, max=257), HTML(value='')))"
      ]
     },
     "metadata": {},
     "output_type": "display_data"
    },
    {
     "name": "stdout",
     "output_type": "stream",
     "text": [
      "\n"
     ]
    }
   ],
   "source": [
    "flat_real_features = [\"floor\", \"balcon\", \"square\", \"Количество помещений\"]\n",
    "flat_cat_features = [\"vid\", \"otdelka\", \"Класс объекта\",\n",
    "                    \"Огорожена территория\", \"Кондиционирование\", \"Вентлияция\",\n",
    "                    \"Система мусоротведения\"]\n",
    "\n",
    "for bulk_id in tqdm_notebook(data[\"bulk_id\"].unique()):\n",
    "    set_spalen = data[data[\"bulk_id\"] == bulk_id][\"spalen\"].unique()\n",
    "    for spalen in set_spalen:\n",
    "        data_indexes = (data[\"bulk_id\"] == bulk_id) & (data[\"spalen\"] == spalen)\n",
    "        flat_indexes = (flat[\"bulk_id\"] == bulk_id) & (flat[\"spalen\"] == spalen)\n",
    "        \n",
    "        for f in flat_real_features:\n",
    "            data.loc[data_indexes, \"max_\"+f] = flat[flat_indexes][f].max()\n",
    "            data.loc[data_indexes, \"min_\"+f] = flat[flat_indexes][f].min()\n",
    "            \n",
    "            data.loc[data_indexes, \"mean_\"+f] = flat[flat_indexes][f].mean()\n",
    "            data.loc[data_indexes, \"median_\"+f] = flat[flat_indexes][f].median()\n",
    "            \n",
    "            data.loc[data_indexes, \"variance_\"+f] = ((flat[flat_indexes][f] - flat[flat_indexes][f].mean())**2).mean()\n",
    "            data.loc[data_indexes, \"std_\"+f] = ((flat[flat_indexes][f] \\\n",
    "                                                 - flat[flat_indexes][f].mean())**2).mean() ** 0.5\n",
    "        for f in flat_cat_features:\n",
    "            for c in flat[f].unique():\n",
    "                flat_indexes2 = (flat_indexes & (flat[f] == c))\n",
    "                data.loc[data_indexes, f+\"_\"+str(c)+\"_count\"] = flat_indexes2.sum()\n",
    "                data.loc[data_indexes, f+\"_\"+str(c)+\"_share_object\"] = flat_indexes2.sum()/flat_indexes.sum()"
   ]
  },
  {
   "cell_type": "code",
   "execution_count": 10,
   "metadata": {},
   "outputs": [],
   "source": [
    "data[\"Средняя цена за квадрат\"] = data[\"price\"]/data[\"mean_sq\"]\n",
    "data[\"Средняя цена за комнату\"] = data[\"price\"]/(data[\"spalen\"]+1)\n",
    "data[\"Средняя площадь комнаты\"] = data[\"mean_sq\"]/(data[\"spalen\"]+1)\n",
    "data[\"Средняя площадь комнаты\"] = data[\"mean_sq\"]/(data[\"spalen\"]+1)\n",
    "\n",
    "data[\"Удобство до большой дороги\"] = data[\"До большой дороги на машине(км)\"]/data[\"Машиномест\"]\n",
    "data[\"Удобство до авторазвязки\"] = data[\"До удобной авторазвязки на машине(км)\"]/data[\"Машиномест\"]\n",
    "data[\"Удобство до парка на машине\"] = data[\"До парка(км)\"]/data[\"Машиномест\"]\n",
    "\n",
    "data[\"Удобство до кремля пешком\"] = data[\"До Кремля\"]/data[\"До метро пешком(км)\"]\n",
    "data[\"Удобство до парка пешком\"] = data[\"До парка(км)\"]/data[\"До метро пешком(км)\"]\n",
    "data[\"Критерий удобства Метро\"] = data[\"Станций метро от кольца\"]/data[\"До метро пешком(км)\"]\n",
    "data[\"price_USD\"] = data[\"price\"]/data[\"Курс\"]\n",
    "\n",
    "data[\"Общая сумма вкладов\"] = data[\"Вклады от 1 года до 3 лет\"] + data['Вклады свыше 3 лет'] + data['Вклады до 1 года']\n",
    "data[\"Соотношение вкладов до 1 и после 1\"] = data['Вклады до 1 года'] / (data[\"Вклады от 1 года до 3 лет\"] + data['Вклады свыше 3 лет'])\n",
    "data[\"Соотношение вкладов до 3 и после 3\"] = (data['Вклады до 1 года'] + data[\"Вклады от 1 года до 3 лет\"]) / data['Вклады свыше 3 лет']"
   ]
  },
  {
   "cell_type": "code",
   "execution_count": 11,
   "metadata": {},
   "outputs": [],
   "source": [
    "data = data.drop([\"id\", \"bulk_id\"], axis=1)\n",
    "data = data.fillna(-1000)\n",
    "train = data[data[\"is_train\"] == True]\n",
    "test = data[data[\"is_train\"] == False]"
   ]
  },
  {
   "cell_type": "markdown",
   "metadata": {},
   "source": [
    "### Train model"
   ]
  },
  {
   "cell_type": "code",
   "execution_count": 12,
   "metadata": {},
   "outputs": [],
   "source": [
    "n_folds = 10\n",
    "max_depth = 10\n",
    "iterations = 3200"
   ]
  },
  {
   "cell_type": "code",
   "execution_count": 13,
   "metadata": {},
   "outputs": [],
   "source": [
    "kf = KFold(n_splits=n_folds, random_state=42, shuffle=True)"
   ]
  },
  {
   "cell_type": "code",
   "execution_count": 14,
   "metadata": {},
   "outputs": [],
   "source": [
    "for i, (train_index, valid_index) in enumerate(kf.split(range(len(train)))):\n",
    "    train_fold = train.loc[train_index]\n",
    "    valid_fold = train.loc[valid_index]\n",
    "\n",
    "    train_fold.to_csv(f\"./input2/train_{i}.csv\",index=False)\n",
    "    valid_fold.to_csv(f\"./input2/valid_{i}.csv\",index=False)"
   ]
  },
  {
   "cell_type": "code",
   "execution_count": 22,
   "metadata": {},
   "outputs": [],
   "source": [
    "from sklearn.linear_model import ElasticNet, SGDRegressor\n",
    "from sklearn.preprocessing import MinMaxScaler"
   ]
  },
  {
   "cell_type": "code",
   "execution_count": null,
   "metadata": {},
   "outputs": [],
   "source": [
    "mms.fit_transform"
   ]
  },
  {
   "cell_type": "code",
   "execution_count": 98,
   "metadata": {
    "scrolled": true
   },
   "outputs": [
    {
     "name": "stderr",
     "output_type": "stream",
     "text": [
      "  0%|          | 0/10 [00:00<?, ?it/s]/home/alxmamaev/anaconda3/lib/python3.6/site-packages/sklearn/linear_model/stochastic_gradient.py:128: FutureWarning: max_iter and tol parameters have been added in <class 'sklearn.linear_model.stochastic_gradient.SGDRegressor'> in 0.19. If both are left unset, they default to max_iter=5 and tol=None. If tol is not None, max_iter defaults to max_iter=1000. From 0.21, default max_iter will be 1000, and default tol will be 1e-3.\n",
      "  \"and default tol will be 1e-3.\" % type(self), FutureWarning)\n",
      "100%|██████████| 10/10 [00:05<00:00,  1.92it/s]\n"
     ]
    }
   ],
   "source": [
    "models_predict = []\n",
    "feature_importances = []\n",
    "models_rmse = []\n",
    "\n",
    "for i in tqdm(range(n_folds)):\n",
    "    train_fold = pd.read_csv(f\"./input2/train_{i}.csv\")\n",
    "    valid_fold = pd.read_csv(f\"./input2/valid_{i}.csv\")\n",
    "    \n",
    "    mms = MinMaxScaler()\n",
    "    \n",
    "    x_train, y_train = train_fold.drop(\"value\", axis=1), train_fold[\"value\"]\n",
    "    x_val, y_val = valid_fold.drop(\"value\", axis=1), valid_fold[\"value\"]\n",
    "    x_test = test.drop(\"value\", axis=1)\n",
    "    \n",
    "    x_train = mms.fit_transform(x_train)\n",
    "    x_val = mms.transform(x_val)\n",
    "    x_test = mms.transform(x_test)\n",
    "    \n",
    "    model = SGDRegressor(eta0=0.0514)\n",
    "    \n",
    "    model.fit(x_train, y_train)#, cat_features=cat_cols_indexes)\n",
    "    \n",
    "    models_rmse.append(rmse(model.predict(x_val), y_val))\n",
    "    pred = model.predict(x_test)\n",
    "    models_predict.append(pred)\n",
    "    feature_importances.append(model.coef_)"
   ]
  },
  {
   "cell_type": "code",
   "execution_count": 99,
   "metadata": {},
   "outputs": [
    {
     "name": "stdout",
     "output_type": "stream",
     "text": [
      "Mean RMSE: 298.60839115286024\n"
     ]
    }
   ],
   "source": [
    "print(\"Mean RMSE:\", np.mean(models_rmse))"
   ]
  },
  {
   "cell_type": "code",
   "execution_count": 100,
   "metadata": {
    "scrolled": false
   },
   "outputs": [
    {
     "data": {
      "text/plain": [
       "[(323.0027954679685, 'vid_хороший_count'),\n",
       " (256.5983966841725, 'otdelka_Стандартная эконом._share_object'),\n",
       " (250.26902391171518, 'Класс объекта_комфорт_count'),\n",
       " (197.03246358324748, 'otdelka_ПИК1-лоукост_count'),\n",
       " (179.6767521015662, 'otdelka_ПИК2-лоукост_count'),\n",
       " (178.05458760590457, 'Система мусоротведения_контейнеры_count'),\n",
       " (170.97645948913387, 'Огорожена территория_нет_count'),\n",
       " (154.19585791133065, 'Кондиционирование_1_count'),\n",
       " (149.51589109477783, 'Вентлияция_0_count'),\n",
       " (143.9008835442328, 'otdelka_Стандартная чистовая_count'),\n",
       " (143.66685505416746, 'otdelka_Монолит-лоукост_count'),\n",
       " (135.2894060003312, 'max_floor'),\n",
       " (131.84660338687593, 'std_square'),\n",
       " (127.9064851431024, 'otdelka_Лоукост (без кондиционера)_share_object'),\n",
       " (122.59394998045731, 'До парка(км)'),\n",
       " (118.46830256372976, 'std_balcon'),\n",
       " (118.34333888940176, 'otdelka_ПИК2-лоукост_share_object'),\n",
       " (112.20472630153115, 'otdelka_Стандартная эконом._count'),\n",
       " (108.32178124261, 'otdelka_Лоукост (без кондиционера)_count'),\n",
       " (97.49935461824927, 'ФОК'),\n",
       " (93.55001834282888, 'max_square'),\n",
       " (89.69267578680022, 'Площадь зеленой зоны в радиусе 500 м'),\n",
       " (88.93007598558485, 'otdelka_\"\"Новая панель\"\"\"\" (без кондиционера)\"\"_count'),\n",
       " (77.17351056089427, 'vid_средний_count'),\n",
       " (75.88426103293017, 'month'),\n",
       " (73.82802816836895, 'otdelka_Стандартная чистовая_share_object'),\n",
       " (67.67610784959258, 'Cтавка по ипотеке'),\n",
       " (67.22143591630817, 'Вентлияция_0_share_object'),\n",
       " (62.55853780425483, 'Машиномест'),\n",
       " (58.76599675160911, 'otdelka_Стандарт монолит_count'),\n",
       " (58.658620140125976, 'Вклады от 1 года до 3 лет'),\n",
       " (54.13073303678066, 'Кондиционирование_1_share_object'),\n",
       " (51.98219889521485, 'Двор без машин'),\n",
       " (51.34539036301415, 'Огорожена территория_нет_share_object'),\n",
       " (48.621806071849484, 'spalen'),\n",
       " (47.69629490388089, 'vid_эконом_share_object'),\n",
       " (45.51341452161439, 'Подземная парковка'),\n",
       " (44.53661918503079, 'Кондиционирование_3_count'),\n",
       " (44.50357432794339, 'Класс объекта'),\n",
       " (44.29053936013741, 'Класс объекта_стандарт_count'),\n",
       " (41.7025086967306, 'std_floor'),\n",
       " (40.780340068871624, 'Вентлияция_2_count'),\n",
       " (40.40419899247469, 'median_square'),\n",
       " (39.07404291375043, 'Курс'),\n",
       " (38.83811060304916, 'Вентлияция_1_share_object'),\n",
       " (38.14761779731592, 'Класс объекта_стандарт_share_object'),\n",
       " (37.6453529859192,\n",
       "  'otdelka_\"\"Новая панель\"\"\"\" (без кондиционера)\"\"_share_object'),\n",
       " (37.53333227655984, 'vid_средний_share_object'),\n",
       " (36.65801557305918, 'Соотношение вкладов до 3 и после 3'),\n",
       " (35.43319487701981, 'variance_square'),\n",
       " (31.24126470013793, 'До большой дороги на машине(км)'),\n",
       " (28.250272902967097, 'median_balcon'),\n",
       " (27.397276085816543, 'max_balcon'),\n",
       " (27.272662992954377, 'Удобство до парка пешком'),\n",
       " (24.439933914177615, 'mean_floor'),\n",
       " (22.782009199840623, 'Кондиционирование'),\n",
       " (22.6845515496169, 'Удобство до большой дороги'),\n",
       " (22.682870993069933, 'Поликлиника'),\n",
       " (18.689756063924555, 'vid_ двор_share_object'),\n",
       " (18.689756063924555, 'vid_ двор_count'),\n",
       " (16.444760630698912, 'Класс объекта_эконом_share_object'),\n",
       " (16.08414093510351, 'Площадь двора'),\n",
       " (16.05962315098455, 'Огорожена территория_да_count'),\n",
       " (15.958901126255512, 'Огорожена территория_да_share_object'),\n",
       " (15.958901126255512, 'Огорожена территория'),\n",
       " (14.352213151687273, 'Видеонаблюдение'),\n",
       " (13.829356998049398, 'mean_balcon'),\n",
       " (12.711913061254775, 'Класс объекта_комфорт_share_object'),\n",
       " (12.112087083193716, 'variance_balcon'),\n",
       " (11.892018240857295, 'Вклады до 1 года'),\n",
       " (11.338829192183624, 'Вентлияция_1_count'),\n",
       " (9.11840918773949, 'vid_хороший_share_object'),\n",
       " (8.855678622056184, 'Общая сумма вкладов'),\n",
       " (8.43512693157515, 'Кондиционирование_0_share_object'),\n",
       " (8.43512693157515, 'Входные группы'),\n",
       " (7.536310609991621, 'otdelka_ПИК1-лоукост_share_object'),\n",
       " (5.623092860098551, 'otdelka_Монолит-лоукост_share_object'),\n",
       " (5.283853708619937, 'Удобство до авторазвязки'),\n",
       " (4.738431520913795, 'Кондиционирование_3_share_object'),\n",
       " (4.3757166695838015, 'Кондиционирование_0_count'),\n",
       " (0.11430927559235807, 'median_floor'),\n",
       " (0.0, 'Спортивная площадка'),\n",
       " (0.0, 'Система мусоротведения_контейнеры_share_object'),\n",
       " (0.0, 'Система мусоротведения'),\n",
       " (0.0, 'Лифт'),\n",
       " (0.0, 'vid_nan_share_object'),\n",
       " (0.0, 'vid_nan_count'),\n",
       " (0.0, 'variance_Количество помещений'),\n",
       " (0.0, 'std_Количество помещений'),\n",
       " (0.0, 'otdelka_СТАНДАРТ ДСК2_share_object'),\n",
       " (0.0, 'otdelka_СТАНДАРТ ДСК2_count'),\n",
       " (0.0, 'otdelka_ОПТИМА ДСК3_share_object'),\n",
       " (0.0, 'otdelka_ОПТИМА ДСК3_count'),\n",
       " (0.0, 'otdelka_nan_share_object'),\n",
       " (0.0, 'otdelka_nan_count'),\n",
       " (0.0, 'is_train'),\n",
       " (-0.043986759889102264, 'Класс объекта_эконом_count'),\n",
       " (-0.06935986000406263, 'До парка пешком(км)'),\n",
       " (-1.1565747154319252, 'Соотношение вкладов до 1 и после 1'),\n",
       " (-1.721040453071548,\n",
       "  'otdelka_\"\"Новая панель\"\"\"\" (с кондиционером)\"\"_share_object'),\n",
       " (-5.6801133057810995, 'mean_fl'),\n",
       " (-8.749845867162236, 'Количество помещений'),\n",
       " (-8.749845867162236, 'min_Количество помещений'),\n",
       " (-8.749845867162236, 'median_Количество помещений'),\n",
       " (-8.749845867162236, 'mean_Количество помещений'),\n",
       " (-8.749845867162236, 'max_Количество помещений'),\n",
       " (-10.568378167516371, 'otdelka_Комфорт_share_object'),\n",
       " (-10.568378167516371, 'otdelka_Комфорт_count'),\n",
       " (-11.898624137074844, 'Площадь пром. зоны в радиусе 500 м'),\n",
       " (-13.13750321558704, 'mean_square'),\n",
       " (-16.551158856773718, 'otdelka_Стандарт монолит_share_object'),\n",
       " (-19.336199728563166, 'Вентлияция'),\n",
       " (-20.456237282152145, 'Средняя цена за комнату'),\n",
       " (-24.07332938221007, 'Вклады свыше 3 лет'),\n",
       " (-26.5878710302702, 'otdelka_Подготовка (под чистовую)_share_object'),\n",
       " (-26.756077025408747, 'variance_floor'),\n",
       " (-27.900310762319705, 'otdelka_Не производится_share_object'),\n",
       " (-29.586940237023846, 'otdelka_Стандарт-2015_share_object'),\n",
       " (-30.153359273010736, 'До удобной авторазвязки на машине(км)'),\n",
       " (-32.20046516154028, 'otdelka_Вишнёвый сад (под покраску)_share_object'),\n",
       " (-32.81260653591329, 'min_floor'),\n",
       " (-36.635909209076374, 'Кладовые'),\n",
       " (-38.195714365536084, 'Автомойка'),\n",
       " (-38.214162606221834, 'vid_эконом_count'),\n",
       " (-38.755255030087774, 'Вентлияция_2_share_object'),\n",
       " (-39.699891447346936, 'otdelka_Вишнёвый сад (под покраску)_count'),\n",
       " (-40.121289847108734, 'otdelka_ОПТИМА ДСК2_count'),\n",
       " (-41.39806053510212, 'otdelka_Стандарт-2015_count'),\n",
       " (-44.8914700314409, 'Колясочные'),\n",
       " (-46.101260129335344, 'До Садового(км)'),\n",
       " (-47.60931006165258, 'Удобство до парка на машине'),\n",
       " (-47.651485622793274, 'otdelka_Подготовка (под чистовую)_count'),\n",
       " (-49.41578241899313, 'otdelka_Индивидуальная отделка Мортон_share_object'),\n",
       " (-50.746815435276375, 'otdelka_\"\"Новая панель\"\"\"\" (с кондиционером)\"\"_count'),\n",
       " (-51.87150666003559, 'otdelka_Ветка сакуры (под покраску)_share_object'),\n",
       " (-54.687666960879405, 'mean_sq'),\n",
       " (-55.750954048578365, 'До Кремля'),\n",
       " (-56.732174113624936, 'До ТТК(км)'),\n",
       " (-56.7323269620243, 'otdelka_Индивидуальная отделка Мортон_count'),\n",
       " (-56.962336156361, 'Станций метро от кольца'),\n",
       " (-59.884153126787005, 'otdelka_Не производится (с кондиционером)_count'),\n",
       " (-60.55968568189925, 'Средняя цена за квадрат'),\n",
       " (-61.09976709269022,\n",
       "  'otdelka_Не производится (с кондиционером)_share_object'),\n",
       " (-61.34755485393501, 'min_balcon'),\n",
       " (-61.778768352579554, 'Критерий удобства Метро'),\n",
       " (-65.36255048839278, 'Средняя площадь комнаты'),\n",
       " (-65.4133886596346, 'otdelka_Ветка сакуры (под покраску)_count'),\n",
       " (-66.15495142521164, 'Удобство до кремля пешком'),\n",
       " (-69.53171587574508, 'month_cnt'),\n",
       " (-70.06875972002562, 'Площадь земельного участка'),\n",
       " (-84.55013823393584, 'До метро пешком(км)'),\n",
       " (-84.95192803597904, 'otdelka_Вишневый сад_share_object'),\n",
       " (-87.80989982527066, 'otdelka_Ветка сакуры_count'),\n",
       " (-88.8908491945707, 'До промки(км)'),\n",
       " (-93.26031281918063, 'otdelka_Вишневый сад_count'),\n",
       " (-96.62996025961539, 'otdelka_Ветка сакуры_share_object'),\n",
       " (-98.4896615712671, 'min_square'),\n",
       " (-116.97245210905233, 'otdelka_Муниципальная_count'),\n",
       " (-122.97616958501395, 'Детский сад'),\n",
       " (-131.97782064793307, 'Школа'),\n",
       " (-135.79983349515206, 'otdelka_Муниципальная_share_object'),\n",
       " (-138.8208975705368, 'otdelka_Не производится_count'),\n",
       " (-149.33584346392448, 'otdelka_ОПТИМА ДСК2_share_object'),\n",
       " (-220.14433105184185, 'price_USD'),\n",
       " (-250.88989502818262, 'price')]"
      ]
     },
     "execution_count": 100,
     "metadata": {},
     "output_type": "execute_result"
    }
   ],
   "source": [
    "feature_importances = np.mean(feature_importances[1:], axis=0)\n",
    "columns = train.drop(\"value\", axis=1).columns\n",
    "\n",
    "sorted(list(zip(feature_importances, columns)))[::-1]"
   ]
  },
  {
   "cell_type": "code",
   "execution_count": 101,
   "metadata": {},
   "outputs": [
    {
     "name": "stderr",
     "output_type": "stream",
     "text": [
      "/home/alxmamaev/anaconda3/lib/python3.6/site-packages/ipykernel_launcher.py:3: SettingWithCopyWarning: \n",
      "A value is trying to be set on a copy of a slice from a DataFrame.\n",
      "Try using .loc[row_indexer,col_indexer] = value instead\n",
      "\n",
      "See the caveats in the documentation: http://pandas.pydata.org/pandas-docs/stable/indexing.html#indexing-view-versus-copy\n",
      "  This is separate from the ipykernel package so we can avoid doing imports until\n"
     ]
    }
   ],
   "source": [
    "predict = np.mean(models_predict, axis=0)\n",
    "predict[predict<0] = 0\n",
    "test[\"value\"] = predict"
   ]
  },
  {
   "cell_type": "code",
   "execution_count": 102,
   "metadata": {},
   "outputs": [],
   "source": [
    "submit = pd.DataFrame()\n",
    "submit[\"id\"] = test_id\n",
    "submit[\"value\"] = test[\"value\"]\n",
    "submit.to_csv(\"lin-submit.csv\", index=False)"
   ]
  },
  {
   "cell_type": "code",
   "execution_count": null,
   "metadata": {},
   "outputs": [],
   "source": []
  }
 ],
 "metadata": {
  "kernelspec": {
   "display_name": "Python 3",
   "language": "python",
   "name": "python3"
  },
  "language_info": {
   "codemirror_mode": {
    "name": "ipython",
    "version": 3
   },
   "file_extension": ".py",
   "mimetype": "text/x-python",
   "name": "python",
   "nbconvert_exporter": "python",
   "pygments_lexer": "ipython3",
   "version": "3.6.5"
  }
 },
 "nbformat": 4,
 "nbformat_minor": 2
}
